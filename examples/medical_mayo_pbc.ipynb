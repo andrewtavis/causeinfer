{
 "cells": [
  {
   "cell_type": "markdown",
   "metadata": {
    "toc": true
   },
   "source": [
    "<h1>Table of Contents<span class=\"tocSkip\"></span></h1>\n",
    "<div class=\"toc\"><ul class=\"toc-item\"><li><span><a href=\"#Load-Data\" data-toc-modified-id=\"Load-Data-1\"><span class=\"toc-item-num\">1&nbsp;&nbsp;</span>Load Data</a></span><ul class=\"toc-item\"><li><span><a href=\"#Exploration-Data\" data-toc-modified-id=\"Exploration-Data-1.1\"><span class=\"toc-item-num\">1.1&nbsp;&nbsp;</span>Exploration Data</a></span></li><li><span><a href=\"#Modeling-Data\" data-toc-modified-id=\"Modeling-Data-1.2\"><span class=\"toc-item-num\">1.2&nbsp;&nbsp;</span>Modeling Data</a></span></li></ul></li><li><span><a href=\"#Data-Exploration\" data-toc-modified-id=\"Data-Exploration-2\"><span class=\"toc-item-num\">2&nbsp;&nbsp;</span>Data Exploration</a></span></li><li><span><a href=\"#Standard-Models\" data-toc-modified-id=\"Standard-Models-3\"><span class=\"toc-item-num\">3&nbsp;&nbsp;</span>Standard Models</a></span><ul class=\"toc-item\"><li><span><a href=\"#Two-Model\" data-toc-modified-id=\"Two-Model-3.1\"><span class=\"toc-item-num\">3.1&nbsp;&nbsp;</span>Two Model</a></span></li><li><span><a href=\"#Interaction-Term\" data-toc-modified-id=\"Interaction-Term-3.2\"><span class=\"toc-item-num\">3.2&nbsp;&nbsp;</span>Interaction Term</a></span></li><li><span><a href=\"#Class-Transformations\" data-toc-modified-id=\"Class-Transformations-3.3\"><span class=\"toc-item-num\">3.3&nbsp;&nbsp;</span>Class Transformations</a></span><ul class=\"toc-item\"><li><span><a href=\"#Binary-Transformation\" data-toc-modified-id=\"Binary-Transformation-3.3.1\"><span class=\"toc-item-num\">3.3.1&nbsp;&nbsp;</span>Binary Transformation</a></span></li><li><span><a href=\"#Quaternary-Transformation\" data-toc-modified-id=\"Quaternary-Transformation-3.3.2\"><span class=\"toc-item-num\">3.3.2&nbsp;&nbsp;</span>Quaternary Transformation</a></span></li></ul></li><li><span><a href=\"#Evaluation\" data-toc-modified-id=\"Evaluation-3.4\"><span class=\"toc-item-num\">3.4&nbsp;&nbsp;</span>Evaluation</a></span></li></ul></li><li><span><a href=\"#Generalized-Random-Forest\" data-toc-modified-id=\"Generalized-Random-Forest-4\"><span class=\"toc-item-num\">4&nbsp;&nbsp;</span>Generalized Random Forest</a></span><ul class=\"toc-item\"><li><span><a href=\"#Modeling\" data-toc-modified-id=\"Modeling-4.1\"><span class=\"toc-item-num\">4.1&nbsp;&nbsp;</span>Modeling</a></span></li><li><span><a href=\"#Evaluation\" data-toc-modified-id=\"Evaluation-4.2\"><span class=\"toc-item-num\">4.2&nbsp;&nbsp;</span>Evaluation</a></span></li></ul></li></ul></div>"
   ]
  },
  {
   "cell_type": "code",
   "execution_count": null,
   "metadata": {},
   "outputs": [],
   "source": [
    "import sys\n",
    "import os\n",
    "import numpy as np\n",
    "import pandas as pd\n",
    "import matplotlib.pyplot as plt\n",
    "import seaborn as sns\n",
    "\n",
    "from causeinfer.data import mayo_pbc\n",
    "from causeinfer.utilities import plot_unit_distributions\n",
    "from causeinfer.standard_algorithms import TwoModel\n",
    "from causeinfer.standard_algorithms import InteractionTerm\n",
    "from causeinfer.standard_algorithms import BinaryClassTransformation\n",
    "from causeinfer.standard_algorithms import QuaternaryClassTransformation\n",
    "\n",
    "pd.set_option(\"display.max_rows\", 16)\n",
    "pd.set_option('display.max_columns', None)\n",
    "from IPython.core.display import display, HTML\n",
    "display(HTML(\"<style>.container { width:99% !important; }</style>\"))"
   ]
  },
  {
   "cell_type": "code",
   "execution_count": null,
   "metadata": {},
   "outputs": [],
   "source": [
    "os.getcwd()"
   ]
  },
  {
   "cell_type": "code",
   "execution_count": null,
   "metadata": {},
   "outputs": [],
   "source": [
    "head_shape = helpers_py.head_shape"
   ]
  },
  {
   "cell_type": "markdown",
   "metadata": {},
   "source": [
    "# Load Data"
   ]
  },
  {
   "cell_type": "code",
   "execution_count": null,
   "metadata": {},
   "outputs": [],
   "source": [
    "mayo_pbc.download_mayo_pbc()"
   ]
  },
  {
   "cell_type": "markdown",
   "metadata": {},
   "source": [
    "## Exploration Data"
   ]
  },
  {
   "cell_type": "code",
   "execution_count": null,
   "metadata": {},
   "outputs": [],
   "source": [
    "# The full raw dataset is loaded\n",
    "data_raw = mayo_pbc.load_mayo_pbc(data_path=\"/datasets/mayo_pbc.text\",\n",
    "                                  load_raw_data=True,\n",
    "                                  normalize=False)\n",
    "\n",
    "df_full = pd.DataFrame(data_raw[\"dataset_full\"], \n",
    "                       columns=data_raw[\"dataset_full_names\"])\n",
    "\n",
    "display(df_full.head())\n",
    "df_full.shape"
   ]
  },
  {
   "cell_type": "markdown",
   "metadata": {},
   "source": [
    "## Modeling Data"
   ]
  },
  {
   "cell_type": "code",
   "execution_count": null,
   "metadata": {},
   "outputs": [],
   "source": [
    "# The formatted dataset is loaded\n",
    "data_mayo_pbc = mayo_pbc.load_mayo_pbc(data_path=\"/datasets/mayo_pbc.text\",\n",
    "                                       load_raw_data=False, \n",
    "                                       normalize=True)\n",
    "\n",
    "# Covariates, treatments and responses are loaded separately\n",
    "X = data_mayo_pbc[\"features\"]\n",
    "y = data_mayo_pbc[\"response\"]\n",
    "w = data_mayo_pbc[\"treatment\"]"
   ]
  },
  {
   "cell_type": "code",
   "execution_count": null,
   "metadata": {},
   "outputs": [],
   "source": [
    "X_train, X_test, \\\n",
    "y_train, y_test, \\\n",
    "w_train, w_test = train_test_split(X, y, w, percent_train=0.6, random_state=42)"
   ]
  },
  {
   "cell_type": "markdown",
   "metadata": {},
   "source": [
    "# Data Exploration"
   ]
  },
  {
   "cell_type": "code",
   "execution_count": null,
   "metadata": {},
   "outputs": [],
   "source": [
    "sns.set(style=\"whitegrid\")\n",
    "sns.set(rc={'figure.figsize':(15, 5)})"
   ]
  },
  {
   "cell_type": "code",
   "execution_count": null,
   "metadata": {},
   "outputs": [],
   "source": [
    "fig, (ax1, ax2) = plt.subplots(ncols=2, sharey=True, figsize=(20,5))\n",
    "plot_unit_distributions(df=df_full, \n",
    "                        variable='variable', treatment = None,\n",
    "                        plot_x_lab='x', plot_y_lab='y', plot_title='title', \n",
    "                        fontsize=20, bins=20, axis=ax1),\n",
    "\n",
    "plot_unit_distributions(df=df_full, \n",
    "                        variable='variable', treatment = 'status',\n",
    "                        plot_x_lab='x', plot_y_lab='y', plot_title='title', \n",
    "                        fontsize=20, bins=20, axis=ax2)"
   ]
  },
  {
   "cell_type": "markdown",
   "metadata": {},
   "source": [
    "# Standard Models"
   ]
  },
  {
   "cell_type": "markdown",
   "metadata": {},
   "source": [
    "## Two Model"
   ]
  },
  {
   "cell_type": "code",
   "execution_count": null,
   "metadata": {},
   "outputs": [],
   "source": [
    "two_model = TwoModel()\n",
    "two_model.fit(X_train, y_train, w_train)"
   ]
  },
  {
   "cell_type": "code",
   "execution_count": null,
   "metadata": {},
   "outputs": [],
   "source": [
    "two_model_effect = two_model.predict(X_test)"
   ]
  },
  {
   "cell_type": "markdown",
   "metadata": {},
   "source": [
    "## Interaction Term"
   ]
  },
  {
   "cell_type": "code",
   "execution_count": null,
   "metadata": {},
   "outputs": [],
   "source": [
    "interaction_term = InteractionTerm()\n",
    "interaction_term.fit(X_train, y_train, w_train)"
   ]
  },
  {
   "cell_type": "code",
   "execution_count": null,
   "metadata": {},
   "outputs": [],
   "source": [
    "interaction_term_effect = interaction_term.predict(X_test)"
   ]
  },
  {
   "cell_type": "markdown",
   "metadata": {},
   "source": [
    "## Class Transformations"
   ]
  },
  {
   "cell_type": "markdown",
   "metadata": {},
   "source": [
    "### Binary Transformation"
   ]
  },
  {
   "cell_type": "code",
   "execution_count": null,
   "metadata": {},
   "outputs": [],
   "source": [
    "b_transformation = BinaryClassTransformation()\n",
    "b_transformation.fit(X_train, y_train, w_train)"
   ]
  },
  {
   "cell_type": "code",
   "execution_count": null,
   "metadata": {},
   "outputs": [],
   "source": [
    "b_transformation_effect = b_transformation.predict(X_test)"
   ]
  },
  {
   "cell_type": "markdown",
   "metadata": {},
   "source": [
    "### Quaternary Transformation"
   ]
  },
  {
   "cell_type": "code",
   "execution_count": null,
   "metadata": {},
   "outputs": [],
   "source": [
    "q_transformation = QuaternaryClassTransformation()\n",
    "q_transformation.fit(X_train, y_train, w_train)"
   ]
  },
  {
   "cell_type": "code",
   "execution_count": null,
   "metadata": {},
   "outputs": [],
   "source": [
    "q_transformation_effect = q_transformation.predict(X_test)"
   ]
  },
  {
   "cell_type": "markdown",
   "metadata": {},
   "source": [
    "## Evaluation"
   ]
  },
  {
   "cell_type": "markdown",
   "metadata": {},
   "source": [
    "# Generalized Random Forest"
   ]
  },
  {
   "cell_type": "markdown",
   "metadata": {},
   "source": [
    "## Modeling"
   ]
  },
  {
   "cell_type": "markdown",
   "metadata": {},
   "source": [
    "## Evaluation"
   ]
  }
 ],
 "metadata": {
  "kernelspec": {
   "display_name": "Python 3",
   "language": "python",
   "name": "python3"
  },
  "language_info": {
   "codemirror_mode": {
    "name": "ipython",
    "version": 3
   },
   "file_extension": ".py",
   "mimetype": "text/x-python",
   "name": "python",
   "nbconvert_exporter": "python",
   "pygments_lexer": "ipython3",
   "version": "3.7.6"
  },
  "toc": {
   "base_numbering": 1,
   "nav_menu": {},
   "number_sections": true,
   "sideBar": true,
   "skip_h1_title": false,
   "title_cell": "Table of Contents",
   "title_sidebar": "Contents",
   "toc_cell": true,
   "toc_position": {},
   "toc_section_display": true,
   "toc_window_display": false
  }
 },
 "nbformat": 4,
 "nbformat_minor": 2
}
