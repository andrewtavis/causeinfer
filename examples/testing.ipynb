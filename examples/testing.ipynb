{
 "cells": [
  {
   "cell_type": "code",
   "execution_count": 2,
   "metadata": {
    "ExecuteTime": {
     "end_time": "2019-11-22T15:29:44.873363Z",
     "start_time": "2019-11-22T15:29:44.304261Z"
    }
   },
   "outputs": [
    {
     "data": {
      "text/html": [
       "<style>.container { width:99% !important; }</style>"
      ],
      "text/plain": [
       "<IPython.core.display.HTML object>"
      ]
     },
     "metadata": {},
     "output_type": "display_data"
    }
   ],
   "source": [
    "import sys\n",
    "import os\n",
    "import requests\n",
    "import importlib\n",
    "import numpy as np\n",
    "import pandas as pd\n",
    "import urllib\n",
    "import zipfile\n",
    "\n",
    "pd.set_option(\"display.max_rows\", 16)\n",
    "pd.set_option('display.max_columns', None)\n",
    "from IPython.core.display import display, HTML\n",
    "display(HTML(\"<style>.container { width:99% !important; }</style>\"))\n",
    "# get_ipython().run_line_magic('matplotlib', 'notebook')"
   ]
  },
  {
   "cell_type": "code",
   "execution_count": 4,
   "metadata": {
    "ExecuteTime": {
     "end_time": "2019-11-22T15:29:47.842000Z",
     "start_time": "2019-11-22T15:29:47.839459Z"
    }
   },
   "outputs": [],
   "source": [
    "sys.path.append('/Users/andrewmcallister/Documents/Learning/Work/causeinfer/cython_practice/')"
   ]
  },
  {
   "cell_type": "code",
   "execution_count": 3,
   "metadata": {
    "ExecuteTime": {
     "end_time": "2019-11-21T17:03:34.976168Z",
     "start_time": "2019-11-21T17:03:34.974155Z"
    }
   },
   "outputs": [],
   "source": [
    "# from hillstrom import download_hillstrom, load_hillstrom\n",
    "# from mayo_pbc import download_mayo_pbc, load_mayo_pbc\n",
    "# from ifmr_microfinance import downlaod_ifmr_microfinance, load_ifmr_microfinance"
   ]
  },
  {
   "cell_type": "code",
   "execution_count": 4,
   "metadata": {
    "ExecuteTime": {
     "end_time": "2019-11-21T17:03:40.138796Z",
     "start_time": "2019-11-21T17:03:40.136944Z"
    }
   },
   "outputs": [],
   "source": [
    "# download_hillstrom()\n",
    "# hillstrom = load_hillstrom()\n",
    "# display(hillstrom['dataset_full'])"
   ]
  },
  {
   "cell_type": "code",
   "execution_count": 5,
   "metadata": {
    "ExecuteTime": {
     "end_time": "2019-11-21T17:03:40.341183Z",
     "start_time": "2019-11-21T17:03:40.339359Z"
    }
   },
   "outputs": [],
   "source": [
    "# download_mayo_pbc()\n",
    "# mayo = load_mayo_pbc()\n",
    "# display(mayo['dataset_full'])"
   ]
  },
  {
   "cell_type": "code",
   "execution_count": 6,
   "metadata": {
    "ExecuteTime": {
     "end_time": "2019-11-21T17:03:40.691074Z",
     "start_time": "2019-11-21T17:03:40.689216Z"
    }
   },
   "outputs": [],
   "source": [
    "# downlaod_ifmr_microfinance()\n",
    "# ifmr = load_ifmr_microfinance()\n",
    "# display(ifmr['dataset_full'])"
   ]
  },
  {
   "cell_type": "code",
   "execution_count": 5,
   "metadata": {
    "ExecuteTime": {
     "end_time": "2019-11-22T15:29:55.714667Z",
     "start_time": "2019-11-22T15:29:55.489737Z"
    }
   },
   "outputs": [
    {
     "name": "stdout",
     "output_type": "stream",
     "text": [
      "Hello World\n"
     ]
    }
   ],
   "source": [
    "import helloworld"
   ]
  },
  {
   "cell_type": "code",
   "execution_count": 7,
   "metadata": {
    "ExecuteTime": {
     "end_time": "2019-11-22T15:31:48.601101Z",
     "start_time": "2019-11-22T15:31:48.597120Z"
    }
   },
   "outputs": [],
   "source": [
    "import pyximport; pyximport.install()\n",
    "import helloworld"
   ]
  },
  {
   "cell_type": "code",
   "execution_count": 8,
   "metadata": {
    "ExecuteTime": {
     "end_time": "2019-11-22T15:33:00.722284Z",
     "start_time": "2019-11-22T15:33:00.497480Z"
    }
   },
   "outputs": [
    {
     "data": {
      "text/plain": [
       "(<pyximport.pyximport.PyImporter at 0x7f9221930cd0>, None)"
      ]
     },
     "execution_count": 8,
     "metadata": {},
     "output_type": "execute_result"
    }
   ],
   "source": [
    "pyximport.install(pyimport=True)"
   ]
  },
  {
   "cell_type": "code",
   "execution_count": 9,
   "metadata": {
    "ExecuteTime": {
     "end_time": "2019-11-22T15:36:48.256933Z",
     "start_time": "2019-11-22T15:36:48.035221Z"
    }
   },
   "outputs": [],
   "source": [
    "import fib"
   ]
  },
  {
   "cell_type": "code",
   "execution_count": 10,
   "metadata": {
    "ExecuteTime": {
     "end_time": "2019-11-22T15:37:06.116987Z",
     "start_time": "2019-11-22T15:37:06.113160Z"
    }
   },
   "outputs": [
    {
     "name": "stdout",
     "output_type": "stream",
     "text": [
      "1 1 2 3 5 8 13 21 34 55 89 144 233 377 610 987 1597 \n"
     ]
    }
   ],
   "source": [
    "fib.fib(2000)"
   ]
  },
  {
   "cell_type": "code",
   "execution_count": 12,
   "metadata": {
    "ExecuteTime": {
     "end_time": "2019-11-22T16:58:16.810651Z",
     "start_time": "2019-11-22T16:58:16.573259Z"
    }
   },
   "outputs": [
    {
     "data": {
      "text/plain": [
       "[2, 3, 5, 7, 11, 13, 17, 19, 23, 29]"
      ]
     },
     "execution_count": 12,
     "metadata": {},
     "output_type": "execute_result"
    }
   ],
   "source": [
    "import primes\n",
    "primes.primes(10)"
   ]
  },
  {
   "cell_type": "code",
   "execution_count": null,
   "metadata": {},
   "outputs": [],
   "source": []
  }
 ],
 "metadata": {
  "kernelspec": {
   "display_name": "Python 3",
   "language": "python",
   "name": "python3"
  },
  "language_info": {
   "codemirror_mode": {
    "name": "ipython",
    "version": 3
   },
   "file_extension": ".py",
   "mimetype": "text/x-python",
   "name": "python",
   "nbconvert_exporter": "python",
   "pygments_lexer": "ipython3",
   "version": "3.7.5"
  },
  "toc": {
   "base_numbering": 1,
   "nav_menu": {},
   "number_sections": true,
   "sideBar": true,
   "skip_h1_title": false,
   "title_cell": "Table of Contents",
   "title_sidebar": "Contents",
   "toc_cell": false,
   "toc_position": {},
   "toc_section_display": true,
   "toc_window_display": false
  }
 },
 "nbformat": 4,
 "nbformat_minor": 2
}
