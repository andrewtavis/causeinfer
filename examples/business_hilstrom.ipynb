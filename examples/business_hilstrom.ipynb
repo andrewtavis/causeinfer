{
 "cells": [
  {
   "cell_type": "code",
   "execution_count": null,
   "metadata": {},
   "outputs": [],
   "source": [
    "import sys\n",
    "import os\n",
    "import numpy as np\n",
    "import pandas as pd\n",
    "\n",
    "# Python helpers\n",
    "prog_general_dir = \"/Users/andrewmcallister/Documents/learning/work/programming/general\"\n",
    "general_helpers_dir = \"/Users/andrewmcallister/Documents/learning/work/programming/general/helpers\"\n",
    "sys.path.insert(1, prog_general_dir)\n",
    "sys.path.insert(1, general_helpers_dir)\n",
    "import helpers_py # see https://github.com/andrewtavis/general\n",
    "\n",
    "# CauseInfer\n",
    "from causeinfer.data import hillstrom\n",
    "\n",
    "pd.set_option(\"display.max_rows\", 16)\n",
    "pd.set_option('display.max_columns', None)\n",
    "from IPython.core.display import display, HTML\n",
    "display(HTML(\"<style>.container { width:99% !important; }</style>\"))\n",
    "\n",
    "from causeinfer.data import hillstrom"
   ]
  },
  {
   "cell_type": "code",
   "execution_count": null,
   "metadata": {},
   "outputs": [],
   "source": [
    "os.getcwd()"
   ]
  },
  {
   "cell_type": "code",
   "execution_count": null,
   "metadata": {},
   "outputs": [],
   "source": [
    "head_shape = helpers_py.head_shape"
   ]
  },
  {
   "cell_type": "code",
   "execution_count": null,
   "metadata": {},
   "outputs": [],
   "source": [
    "hillstrom.download_hillstrom()\n",
    "data_hillstrom = hillstrom.load_hillstrom(data_path=\"/datasets/hillstrom.csv\",\n",
    "                                          load_raw_data=False, \n",
    "                                          normalize=True)"
   ]
  },
  {
   "cell_type": "code",
   "execution_count": null,
   "metadata": {},
   "outputs": [],
   "source": [
    "df_full_hillstrom = pd.DataFrame(data_hillstrom[\"dataset_full\"], \n",
    "                                 columns=data_hillstrom[\"dataset_full_names\"])\n",
    "head_shape(df_full_hillstrom)"
   ]
  },
  {
   "cell_type": "code",
   "execution_count": null,
   "metadata": {},
   "outputs": [],
   "source": [
    "df_hillstrom = pd.DataFrame(data_hillstrom[\"features\"], \n",
    "                            columns=data_hillstrom[\"feature_names\"])\n",
    "head_shape(df_hillstrom)"
   ]
  }
 ],
 "metadata": {
  "kernelspec": {
   "display_name": "Python 3",
   "language": "python",
   "name": "python3"
  },
  "language_info": {
   "codemirror_mode": {
    "name": "ipython",
    "version": 3
   },
   "file_extension": ".py",
   "mimetype": "text/x-python",
   "name": "python",
   "nbconvert_exporter": "python",
   "pygments_lexer": "ipython3",
   "version": "3.7.6"
  },
  "toc": {
   "base_numbering": 1,
   "nav_menu": {},
   "number_sections": true,
   "sideBar": true,
   "skip_h1_title": false,
   "title_cell": "Table of Contents",
   "title_sidebar": "Contents",
   "toc_cell": false,
   "toc_position": {},
   "toc_section_display": true,
   "toc_window_display": false
  }
 },
 "nbformat": 4,
 "nbformat_minor": 2
}
