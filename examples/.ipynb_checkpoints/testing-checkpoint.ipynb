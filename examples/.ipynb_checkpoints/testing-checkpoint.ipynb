{
 "cells": [
  {
   "cell_type": "code",
   "execution_count": 1,
   "metadata": {
    "ExecuteTime": {
     "end_time": "2019-11-25T18:09:56.244066Z",
     "start_time": "2019-11-25T18:09:55.676681Z"
    }
   },
   "outputs": [
    {
     "data": {
      "text/html": [
       "<style>.container { width:99% !important; }</style>"
      ],
      "text/plain": [
       "<IPython.core.display.HTML object>"
      ]
     },
     "metadata": {},
     "output_type": "display_data"
    }
   ],
   "source": [
    "import sys\n",
    "import os\n",
    "import requests\n",
    "import importlib\n",
    "import numpy as np\n",
    "import pandas as pd\n",
    "import urllib\n",
    "import zipfile\n",
    "\n",
    "pd.set_option(\"display.max_rows\", 16)\n",
    "pd.set_option('display.max_columns', None)\n",
    "from IPython.core.display import display, HTML\n",
    "display(HTML(\"<style>.container { width:99% !important; }</style>\"))\n",
    "# get_ipython().run_line_magic('matplotlib', 'notebook')"
   ]
  },
  {
   "cell_type": "code",
   "execution_count": 11,
   "metadata": {
    "ExecuteTime": {
     "end_time": "2019-11-25T18:19:42.585809Z",
     "start_time": "2019-11-25T18:19:42.583384Z"
    }
   },
   "outputs": [],
   "source": [
    "sys.path.append('/Users/andrewmcallister/Documents/Learning/Work/causeinfer/cython_practice/')"
   ]
  },
  {
   "cell_type": "code",
   "execution_count": 3,
   "metadata": {
    "ExecuteTime": {
     "end_time": "2019-11-25T18:10:04.350363Z",
     "start_time": "2019-11-25T18:10:04.348615Z"
    }
   },
   "outputs": [],
   "source": [
    "# from hillstrom import download_hillstrom, load_hillstrom\n",
    "# from mayo_pbc import download_mayo_pbc, load_mayo_pbc\n",
    "# from ifmr_microfinance import downlaod_ifmr_microfinance, load_ifmr_microfinance"
   ]
  },
  {
   "cell_type": "code",
   "execution_count": 4,
   "metadata": {
    "ExecuteTime": {
     "end_time": "2019-11-25T18:10:04.521972Z",
     "start_time": "2019-11-25T18:10:04.520352Z"
    }
   },
   "outputs": [],
   "source": [
    "# download_hillstrom()\n",
    "# hillstrom = load_hillstrom()\n",
    "# display(hillstrom['dataset_full'])"
   ]
  },
  {
   "cell_type": "code",
   "execution_count": 5,
   "metadata": {
    "ExecuteTime": {
     "end_time": "2019-11-25T18:10:04.904749Z",
     "start_time": "2019-11-25T18:10:04.902833Z"
    }
   },
   "outputs": [],
   "source": [
    "# download_mayo_pbc()\n",
    "# mayo = load_mayo_pbc()\n",
    "# display(mayo['dataset_full'])"
   ]
  },
  {
   "cell_type": "code",
   "execution_count": 6,
   "metadata": {
    "ExecuteTime": {
     "end_time": "2019-11-25T18:10:05.227578Z",
     "start_time": "2019-11-25T18:10:05.225547Z"
    }
   },
   "outputs": [],
   "source": [
    "# downlaod_ifmr_microfinance()\n",
    "# ifmr = load_ifmr_microfinance()\n",
    "# display(ifmr['dataset_full'])"
   ]
  },
  {
   "cell_type": "code",
   "execution_count": 7,
   "metadata": {
    "ExecuteTime": {
     "end_time": "2019-11-25T18:10:06.690953Z",
     "start_time": "2019-11-25T18:10:06.684078Z"
    }
   },
   "outputs": [
    {
     "name": "stdout",
     "output_type": "stream",
     "text": [
      "Hello World\n"
     ]
    }
   ],
   "source": [
    "import helloworld"
   ]
  },
  {
   "cell_type": "code",
   "execution_count": 7,
   "metadata": {
    "ExecuteTime": {
     "end_time": "2019-11-22T15:31:48.601101Z",
     "start_time": "2019-11-22T15:31:48.597120Z"
    }
   },
   "outputs": [],
   "source": [
    "import pyximport; pyximport.install()\n",
    "import helloworld"
   ]
  },
  {
   "cell_type": "code",
   "execution_count": 8,
   "metadata": {
    "ExecuteTime": {
     "end_time": "2019-11-22T15:33:00.722284Z",
     "start_time": "2019-11-22T15:33:00.497480Z"
    }
   },
   "outputs": [
    {
     "data": {
      "text/plain": [
       "(<pyximport.pyximport.PyImporter at 0x7f9221930cd0>, None)"
      ]
     },
     "execution_count": 8,
     "metadata": {},
     "output_type": "execute_result"
    }
   ],
   "source": [
    "pyximport.install(pyimport=True)"
   ]
  },
  {
   "cell_type": "code",
   "execution_count": 9,
   "metadata": {
    "ExecuteTime": {
     "end_time": "2019-11-22T15:36:48.256933Z",
     "start_time": "2019-11-22T15:36:48.035221Z"
    }
   },
   "outputs": [],
   "source": [
    "import fib"
   ]
  },
  {
   "cell_type": "code",
   "execution_count": 10,
   "metadata": {
    "ExecuteTime": {
     "end_time": "2019-11-22T15:37:06.116987Z",
     "start_time": "2019-11-22T15:37:06.113160Z"
    }
   },
   "outputs": [
    {
     "name": "stdout",
     "output_type": "stream",
     "text": [
      "1 1 2 3 5 8 13 21 34 55 89 144 233 377 610 987 1597 \n"
     ]
    }
   ],
   "source": [
    "fib.fib(2000)"
   ]
  },
  {
   "cell_type": "code",
   "execution_count": 12,
   "metadata": {
    "ExecuteTime": {
     "end_time": "2019-11-22T16:58:16.810651Z",
     "start_time": "2019-11-22T16:58:16.573259Z"
    }
   },
   "outputs": [
    {
     "data": {
      "text/plain": [
       "[2, 3, 5, 7, 11, 13, 17, 19, 23, 29]"
      ]
     },
     "execution_count": 12,
     "metadata": {},
     "output_type": "execute_result"
    }
   ],
   "source": [
    "import primes\n",
    "primes.primes(10)"
   ]
  },
  {
   "cell_type": "code",
   "execution_count": 16,
   "metadata": {
    "ExecuteTime": {
     "end_time": "2019-11-25T18:20:50.779972Z",
     "start_time": "2019-11-25T18:20:50.776046Z"
    }
   },
   "outputs": [
    {
     "data": {
      "text/plain": [
       "'/Users/andrewmcallister/Documents/learning/work/causeinfer/cython_practice'"
      ]
     },
     "execution_count": 16,
     "metadata": {},
     "output_type": "execute_result"
    }
   ],
   "source": [
    "os.getcwd()"
   ]
  },
  {
   "cell_type": "code",
   "execution_count": 13,
   "metadata": {
    "ExecuteTime": {
     "end_time": "2019-11-25T18:20:34.790061Z",
     "start_time": "2019-11-25T18:20:34.787349Z"
    }
   },
   "outputs": [],
   "source": [
    "os.chdir('/Users/andrewmcallister/Documents/Learning/Work/causeinfer/cython_practice/')"
   ]
  },
  {
   "cell_type": "code",
   "execution_count": null,
   "metadata": {},
   "outputs": [],
   "source": []
  }
 ],
 "metadata": {
  "kernelspec": {
   "display_name": "Python 3",
   "language": "python",
   "name": "python3"
  },
  "language_info": {
   "codemirror_mode": {
    "name": "ipython",
    "version": 3
   },
   "file_extension": ".py",
   "mimetype": "text/x-python",
   "name": "python",
   "nbconvert_exporter": "python",
   "pygments_lexer": "ipython3",
   "version": "3.7.5"
  },
  "toc": {
   "base_numbering": 1,
   "nav_menu": {},
   "number_sections": true,
   "sideBar": true,
   "skip_h1_title": false,
   "title_cell": "Table of Contents",
   "title_sidebar": "Contents",
   "toc_cell": false,
   "toc_position": {},
   "toc_section_display": true,
   "toc_window_display": false
  }
 },
 "nbformat": 4,
 "nbformat_minor": 2
}
