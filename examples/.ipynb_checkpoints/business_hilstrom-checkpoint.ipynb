{
 "cells": [
  {
   "cell_type": "markdown",
   "metadata": {},
   "source": [
    "**Hillstrom Dataset**\n",
    "\n",
    "An email marketing dataset from Kevin Hillstrom's MineThatData blog."
   ]
  },
  {
   "cell_type": "markdown",
   "metadata": {
    "toc": true
   },
   "source": [
    "<h1>Table of Contents<span class=\"tocSkip\"></span></h1>\n",
    "<div class=\"toc\"><ul class=\"toc-item\"><li><span><a href=\"#Load-Data\" data-toc-modified-id=\"Load-Data-1\"><span class=\"toc-item-num\">1&nbsp;&nbsp;</span>Load Data</a></span><ul class=\"toc-item\"><li><span><a href=\"#Exploration-Data\" data-toc-modified-id=\"Exploration-Data-1.1\"><span class=\"toc-item-num\">1.1&nbsp;&nbsp;</span>Exploration Data</a></span></li><li><span><a href=\"#Modeling-Data\" data-toc-modified-id=\"Modeling-Data-1.2\"><span class=\"toc-item-num\">1.2&nbsp;&nbsp;</span>Modeling Data</a></span></li></ul></li><li><span><a href=\"#Data-Exploration\" data-toc-modified-id=\"Data-Exploration-2\"><span class=\"toc-item-num\">2&nbsp;&nbsp;</span>Data Exploration</a></span><ul class=\"toc-item\"><li><span><a href=\"#Full-Data-Visualization\" data-toc-modified-id=\"Full-Data-Visualization-2.1\"><span class=\"toc-item-num\">2.1&nbsp;&nbsp;</span>Full Data Visualization</a></span></li><li><span><a href=\"#Modeling-Data-Preparation\" data-toc-modified-id=\"Modeling-Data-Preparation-2.2\"><span class=\"toc-item-num\">2.2&nbsp;&nbsp;</span>Modeling Data Preparation</a></span></li></ul></li><li><span><a href=\"#Standard-Models\" data-toc-modified-id=\"Standard-Models-3\"><span class=\"toc-item-num\">3&nbsp;&nbsp;</span>Standard Models</a></span><ul class=\"toc-item\"><li><span><a href=\"#Two-Model\" data-toc-modified-id=\"Two-Model-3.1\"><span class=\"toc-item-num\">3.1&nbsp;&nbsp;</span>Two Model</a></span></li><li><span><a href=\"#Interaction-Term\" data-toc-modified-id=\"Interaction-Term-3.2\"><span class=\"toc-item-num\">3.2&nbsp;&nbsp;</span>Interaction Term</a></span></li><li><span><a href=\"#Class-Transformations\" data-toc-modified-id=\"Class-Transformations-3.3\"><span class=\"toc-item-num\">3.3&nbsp;&nbsp;</span>Class Transformations</a></span><ul class=\"toc-item\"><li><span><a href=\"#Binary-Transformation\" data-toc-modified-id=\"Binary-Transformation-3.3.1\"><span class=\"toc-item-num\">3.3.1&nbsp;&nbsp;</span>Binary Transformation</a></span></li><li><span><a href=\"#Quaternary-Transformation\" data-toc-modified-id=\"Quaternary-Transformation-3.3.2\"><span class=\"toc-item-num\">3.3.2&nbsp;&nbsp;</span>Quaternary Transformation</a></span></li></ul></li></ul></li><li><span><a href=\"#Generalized-Random-Forest\" data-toc-modified-id=\"Generalized-Random-Forest-4\"><span class=\"toc-item-num\">4&nbsp;&nbsp;</span>Generalized Random Forest</a></span></li><li><span><a href=\"#Evaluation\" data-toc-modified-id=\"Evaluation-5\"><span class=\"toc-item-num\">5&nbsp;&nbsp;</span>Evaluation</a></span><ul class=\"toc-item\"><li><span><a href=\"#Visual\" data-toc-modified-id=\"Visual-5.1\"><span class=\"toc-item-num\">5.1&nbsp;&nbsp;</span>Visual</a></span></li><li><span><a href=\"#Variance\" data-toc-modified-id=\"Variance-5.2\"><span class=\"toc-item-num\">5.2&nbsp;&nbsp;</span>Variance</a></span></li><li><span><a href=\"#Econometric\" data-toc-modified-id=\"Econometric-5.3\"><span class=\"toc-item-num\">5.3&nbsp;&nbsp;</span>Econometric</a></span></li></ul></li><li><span><a href=\"#Summary\" data-toc-modified-id=\"Summary-6\"><span class=\"toc-item-num\">6&nbsp;&nbsp;</span>Summary</a></span></li></ul></div>"
   ]
  },
  {
   "cell_type": "code",
   "execution_count": 2,
   "metadata": {
    "ExecuteTime": {
     "end_time": "2020-01-14T21:39:46.715769Z",
     "start_time": "2020-01-14T21:39:46.706279Z"
    }
   },
   "outputs": [
    {
     "ename": "ModuleNotFoundError",
     "evalue": "No module named 'causeinfer.data'",
     "output_type": "error",
     "traceback": [
      "\u001b[0;31m---------------------------------------------------------------------------\u001b[0m",
      "\u001b[0;31mModuleNotFoundError\u001b[0m                       Traceback (most recent call last)",
      "\u001b[0;32m<ipython-input-2-c145b73795aa>\u001b[0m in \u001b[0;36m<module>\u001b[0;34m\u001b[0m\n\u001b[1;32m     13\u001b[0m \u001b[0;34m\u001b[0m\u001b[0m\n\u001b[1;32m     14\u001b[0m \u001b[0;31m# CauseInfer\u001b[0m\u001b[0;34m\u001b[0m\u001b[0;34m\u001b[0m\u001b[0;34m\u001b[0m\u001b[0m\n\u001b[0;32m---> 15\u001b[0;31m \u001b[0;32mfrom\u001b[0m \u001b[0mcauseinfer\u001b[0m\u001b[0;34m.\u001b[0m\u001b[0mdata\u001b[0m \u001b[0;32mimport\u001b[0m \u001b[0mhillstrom\u001b[0m\u001b[0;34m\u001b[0m\u001b[0;34m\u001b[0m\u001b[0m\n\u001b[0m\u001b[1;32m     16\u001b[0m \u001b[0;34m\u001b[0m\u001b[0m\n\u001b[1;32m     17\u001b[0m \u001b[0mpd\u001b[0m\u001b[0;34m.\u001b[0m\u001b[0mset_option\u001b[0m\u001b[0;34m(\u001b[0m\u001b[0;34m\"display.max_rows\"\u001b[0m\u001b[0;34m,\u001b[0m \u001b[0;36m16\u001b[0m\u001b[0;34m)\u001b[0m\u001b[0;34m\u001b[0m\u001b[0;34m\u001b[0m\u001b[0m\n",
      "\u001b[0;31mModuleNotFoundError\u001b[0m: No module named 'causeinfer.data'"
     ]
    }
   ],
   "source": [
    "import sys\n",
    "import os\n",
    "import numpy as np\n",
    "import pandas as pd\n",
    "import matplotlib.pyplot as plt\n",
    "import seaborn as sns\n",
    "\n",
    "from sklearn.ensemble import RandomForestClassifier\n",
    "\n",
    "from causeinfer.data import hillstrom\n",
    "from causeinfer.utilities import plot_unit_distributions, train_test_split\n",
    "from causeinfer.utilities import over_sample, mutli_cross_tab\n",
    "from causeinfer.standard_algorithms import TwoModel, InteractionTerm\n",
    "from causeinfer.standard_algorithms import BinaryClassTransformation\n",
    "from causeinfer.standard_algorithms import QuaternaryClassTransformation\n",
    "from causeinfer.evaluation import qini_score, auuc_score\n",
    "from causeinfer.evaluation import plot_cum_effect, plot_cum_gain, plot_qini\n",
    "from causeinfer.evaluation import plot_batch_responses, signal_to_noise\n",
    "from causeinfer.evaluation import iterate_model, eval_table\n",
    "\n",
    "pd.set_option(\"display.max_rows\", 16)\n",
    "pd.set_option('display.max_columns', None)\n",
    "from IPython.core.display import display, HTML\n",
    "display(HTML(\"<style>.container { width:99% !important; }</style>\"))"
   ]
  },
  {
   "cell_type": "code",
   "execution_count": null,
   "metadata": {},
   "outputs": [],
   "source": [
    "os.getcwd()"
   ]
  },
  {
   "cell_type": "code",
   "execution_count": null,
   "metadata": {},
   "outputs": [],
   "source": [
    "head_shape = helpers_py.head_shape"
   ]
  },
  {
   "cell_type": "markdown",
   "metadata": {},
   "source": [
    "# Load Data"
   ]
  },
  {
   "cell_type": "code",
   "execution_count": null,
   "metadata": {},
   "outputs": [],
   "source": [
    "hillstrom.download_hillstrom()"
   ]
  },
  {
   "cell_type": "markdown",
   "metadata": {},
   "source": [
    "## Exploration Data"
   ]
  },
  {
   "cell_type": "code",
   "execution_count": null,
   "metadata": {},
   "outputs": [],
   "source": [
    "# The full mostly unformatted dataset is loaded\n",
    "data_raw = hillstrom.load_hillstrom(user_file_path=\"datasets/hillstrom.csv\",\n",
    "                                    format_covariates=False, \n",
    "                                    normalize=False)\n",
    "\n",
    "df_full = pd.DataFrame(data_raw[\"dataset_full\"], \n",
    "                       columns=data_raw[\"dataset_full_names\"])\n",
    "\n",
    "display(df_full.head())\n",
    "df_full.shape"
   ]
  },
  {
   "cell_type": "markdown",
   "metadata": {},
   "source": [
    "## Modeling Data"
   ]
  },
  {
   "cell_type": "code",
   "execution_count": null,
   "metadata": {},
   "outputs": [],
   "source": [
    "# The formatted dataset is loaded\n",
    "data_hillstrom = hillstrom.load_hillstrom(user_file_path=\"datasets/hillstrom.csv\",\n",
    "                                          format_covariates=True, \n",
    "                                          normalize=True)\n",
    "\n",
    "df = pd.DataFrame(data_hillstrom[\"dataset_full\"], \n",
    "                  columns=data_hillstrom[\"dataset_full_names\"])"
   ]
  },
  {
   "cell_type": "code",
   "execution_count": null,
   "metadata": {},
   "outputs": [],
   "source": [
    "# Covariates, treatments and responses are loaded separately\n",
    "X = data_hillstrom[\"features\"]\n",
    "\n",
    "y = data_hillstrom[\"response_visit\"] # response_visit, response_spend or response_conversion\n",
    "\n",
    "# 1 is men's campaign, 2 is women's, and 0 is control\n",
    "w = data_hillstrom[\"treatment\"]"
   ]
  },
  {
   "cell_type": "markdown",
   "metadata": {},
   "source": [
    "# Data Exploration"
   ]
  },
  {
   "cell_type": "code",
   "execution_count": null,
   "metadata": {},
   "outputs": [],
   "source": [
    "sns.set(style=\"whitegrid\")"
   ]
  },
  {
   "cell_type": "markdown",
   "metadata": {},
   "source": [
    "## Full Data Visualization"
   ]
  },
  {
   "cell_type": "code",
   "execution_count": null,
   "metadata": {},
   "outputs": [],
   "source": [
    "fig, (ax1, ax2) = plt.subplots(nrows=1, ncols=2, sharey=True, figsize=(20,5))\n",
    "\n",
    "plot_unit_distributions(df=df_full, variable='variable', treatment = None,\n",
    "                        plot_x_label='x', plot_y_label='y', plot_title='title', \n",
    "                        bins=None, figsize=None, fontsize=25, axis=ax1),\n",
    "\n",
    "plot_unit_distributions(df=df_full, variable='variable', treatment = 'treatment',\n",
    "                        plot_x_label='x', plot_y_label='y', plot_title='title', \n",
    "                        bins=None, figsize=None, fontsize=25, axis=ax2)"
   ]
  },
  {
   "cell_type": "markdown",
   "metadata": {},
   "source": [
    "## Modeling Data Preparation"
   ]
  },
  {
   "cell_type": "code",
   "execution_count": null,
   "metadata": {},
   "outputs": [],
   "source": [
    "mutli_cross_tab(df=df, w_col='treatment', y_cols = ['visit', 'conversion'], \n",
    "                            label_limit=6, margins=True, normalize=True)"
   ]
  },
  {
   "cell_type": "code",
   "execution_count": null,
   "metadata": {},
   "outputs": [],
   "source": [
    "df.pivot_table(values=['visit', 'conversion', 'spend'],\n",
    "               index='treatment',\n",
    "               aggfunc=[np.mean],\n",
    "               margins=True)"
   ]
  },
  {
   "cell_type": "code",
   "execution_count": null,
   "metadata": {},
   "outputs": [],
   "source": [
    "# Counts for treatment\n",
    "control_indexes = [i for i, e in enumerate(w) if e == 0]\n",
    "mens_indexes = [i for i, e in enumerate(w) if e == 1]\n",
    "womens_indexes = [i for i, e in enumerate(w) if e == 2]\n",
    "\n",
    "womens_mens_indexes = womens_indexes + mens_indexes\n",
    "\n",
    "print(len(control_indexes))\n",
    "print(len(mens_indexes))\n",
    "print(len(womens_indexes))\n",
    "print(len(womens_mens_indexes))"
   ]
  },
  {
   "cell_type": "code",
   "execution_count": null,
   "metadata": {},
   "outputs": [],
   "source": [
    "X_control = X[control_indexes]\n",
    "y_control = y[control_indexes]\n",
    "w_control = w[control_indexes]\n",
    "\n",
    "X_women = X[womens_indexes]\n",
    "y_women = y[womens_indexes]\n",
    "w_women = w[womens_indexes]"
   ]
  },
  {
   "cell_type": "code",
   "execution_count": null,
   "metadata": {},
   "outputs": [],
   "source": [
    "# Change 2s to 1s in women's campaign\n",
    "w_women = [1 for i in w_women if i == 2]\n",
    "w_women[:5]"
   ]
  },
  {
   "cell_type": "code",
   "execution_count": null,
   "metadata": {},
   "outputs": [],
   "source": [
    "# Over-sampling of control\n",
    "X_os, y_os, w_os = over_sample(X_1=X_control, y_1=y_control, w_1=w_control, \n",
    "                               sample_2_size=len(X_women), shuffle=True)"
   ]
  },
  {
   "cell_type": "code",
   "execution_count": null,
   "metadata": {},
   "outputs": [],
   "source": [
    "X_split = np.append(X_os, X_women, axis=0)\n",
    "y_split = np.append(y_os, y_women, axis=0)\n",
    "w_split = np.append(w_os, w_women, axis=0)\n",
    "\n",
    "X_split.shape, y_split.shape, w_split.shape # Should all be equal in the first dimension"
   ]
  },
  {
   "cell_type": "code",
   "execution_count": null,
   "metadata": {},
   "outputs": [],
   "source": [
    "X_train, X_test, y_train, y_test, w_train, w_test = train_test_split(X_split, y_split, w_split, \n",
    "                                                                     percent_train=0.7, random_state=42, \n",
    "                                                                     maintain_proportions=True)"
   ]
  },
  {
   "cell_type": "code",
   "execution_count": null,
   "metadata": {},
   "outputs": [],
   "source": [
    "X_train.shape, X_test.shape, y_train.shape, y_test.shape, w_train.shape, w_test.shape"
   ]
  },
  {
   "cell_type": "code",
   "execution_count": null,
   "metadata": {},
   "outputs": [],
   "source": [
    "print(np.array(np.unique(y_train, return_counts=True)).T)\n",
    "print(np.array(np.unique(y_test, return_counts=True)).T)"
   ]
  },
  {
   "cell_type": "code",
   "execution_count": null,
   "metadata": {},
   "outputs": [],
   "source": [
    "print(np.array(np.unique(w_train, return_counts=True)).T)\n",
    "print(np.array(np.unique(w_test, return_counts=True)).T)"
   ]
  },
  {
   "cell_type": "markdown",
   "metadata": {},
   "source": [
    "# Standard Models"
   ]
  },
  {
   "cell_type": "code",
   "execution_count": null,
   "metadata": {},
   "outputs": [],
   "source": [
    "sn_ratio = signal_to_noise(y=y_split, w=w_split)\n",
    "sn_ratio"
   ]
  },
  {
   "cell_type": "markdown",
   "metadata": {},
   "source": [
    "## Two Model"
   ]
  },
  {
   "cell_type": "code",
   "execution_count": null,
   "metadata": {
    "ExecuteTime": {
     "end_time": "2020-01-17T00:35:36.469912Z",
     "start_time": "2020-01-17T00:35:36.467126Z"
    }
   },
   "outputs": [],
   "source": [
    "tm = TwoModel(treatment_model=RandomForestClassifier(),\n",
    "              control_model=RandomForestClassifier())\n",
    "tm.fit(X=X_train, y=y_train, w=w_train)"
   ]
  },
  {
   "cell_type": "code",
   "execution_count": null,
   "metadata": {
    "ExecuteTime": {
     "end_time": "2020-01-17T00:36:28.250919Z",
     "start_time": "2020-01-17T00:36:28.233379Z"
    }
   },
   "outputs": [],
   "source": [
    "tm_probas = tm.predict_proba(X=X_test)"
   ]
  },
  {
   "cell_type": "code",
   "execution_count": null,
   "metadata": {
    "ExecuteTime": {
     "end_time": "2020-01-17T00:36:32.586900Z",
     "start_time": "2020-01-17T00:36:32.582352Z"
    }
   },
   "outputs": [],
   "source": [
    "tm_probas"
   ]
  },
  {
   "cell_type": "markdown",
   "metadata": {},
   "source": [
    "## Interaction Term"
   ]
  },
  {
   "cell_type": "code",
   "execution_count": null,
   "metadata": {
    "ExecuteTime": {
     "end_time": "2020-01-17T00:35:39.821989Z",
     "start_time": "2020-01-17T00:35:39.819726Z"
    }
   },
   "outputs": [],
   "source": [
    "it = InteractionTerm(model=RandomForestClassifier())\n",
    "it.fit(X=X_train, y=y_train, w=w_train)"
   ]
  },
  {
   "cell_type": "code",
   "execution_count": null,
   "metadata": {
    "ExecuteTime": {
     "end_time": "2020-01-17T00:35:41.013382Z",
     "start_time": "2020-01-17T00:35:40.992310Z"
    }
   },
   "outputs": [],
   "source": [
    "it_probas = it.predict_proba(X=X_test)"
   ]
  },
  {
   "cell_type": "code",
   "execution_count": null,
   "metadata": {
    "ExecuteTime": {
     "end_time": "2020-01-17T00:35:48.545086Z",
     "start_time": "2020-01-17T00:35:48.540860Z"
    }
   },
   "outputs": [],
   "source": [
    "it_probas"
   ]
  },
  {
   "cell_type": "markdown",
   "metadata": {},
   "source": [
    "## Class Transformations"
   ]
  },
  {
   "cell_type": "markdown",
   "metadata": {},
   "source": [
    "### Binary Transformation"
   ]
  },
  {
   "cell_type": "code",
   "execution_count": null,
   "metadata": {
    "ExecuteTime": {
     "end_time": "2020-01-17T01:00:17.827157Z",
     "start_time": "2020-01-17T01:00:17.824724Z"
    }
   },
   "outputs": [],
   "source": [
    "bct = BinaryClassTransformation(model=RandomForestClassifier())\n",
    "bct.fit(X=X_train, y=y_train, w=w_train)"
   ]
  },
  {
   "cell_type": "code",
   "execution_count": null,
   "metadata": {
    "ExecuteTime": {
     "end_time": "2020-01-17T01:00:25.154852Z",
     "start_time": "2020-01-17T01:00:25.150242Z"
    }
   },
   "outputs": [],
   "source": [
    "bct_probas = bct.predict_proba(X=X_test, regularize=False)"
   ]
  },
  {
   "cell_type": "code",
   "execution_count": null,
   "metadata": {
    "ExecuteTime": {
     "end_time": "2020-01-17T01:00:26.454268Z",
     "start_time": "2020-01-17T01:00:26.450165Z"
    }
   },
   "outputs": [],
   "source": [
    "bct_probas"
   ]
  },
  {
   "cell_type": "markdown",
   "metadata": {},
   "source": [
    "### Quaternary Transformation"
   ]
  },
  {
   "cell_type": "code",
   "execution_count": null,
   "metadata": {
    "ExecuteTime": {
     "end_time": "2020-01-17T01:00:43.652381Z",
     "start_time": "2020-01-17T01:00:43.649985Z"
    }
   },
   "outputs": [],
   "source": [
    "qct = QuaternaryClassTransformation(model=RandomForestClassifier())\n",
    "qct.fit(X=X_train, y=y_train, w=w_train)"
   ]
  },
  {
   "cell_type": "code",
   "execution_count": null,
   "metadata": {
    "ExecuteTime": {
     "end_time": "2020-01-17T01:00:46.207712Z",
     "start_time": "2020-01-17T01:00:46.196052Z"
    }
   },
   "outputs": [],
   "source": [
    "qct_probas = qct.predict_proba(X=X_test, regularize=False)"
   ]
  },
  {
   "cell_type": "code",
   "execution_count": null,
   "metadata": {
    "ExecuteTime": {
     "end_time": "2020-01-17T01:00:46.359573Z",
     "start_time": "2020-01-17T01:00:46.356171Z"
    }
   },
   "outputs": [],
   "source": [
    "qct_probas"
   ]
  },
  {
   "cell_type": "markdown",
   "metadata": {},
   "source": [
    "# Generalized Random Forest"
   ]
  },
  {
   "cell_type": "markdown",
   "metadata": {},
   "source": [
    "# Evaluation"
   ]
  },
  {
   "cell_type": "code",
   "execution_count": null,
   "metadata": {},
   "outputs": [],
   "source": [
    "tm_effects = [tm_probas[i][0] - tm_probas[i][1] for i in range(len(tm_probas))]\n",
    "it_effects = [it_probas[i][0] - it_probas[i][1] for i in range(len(it_probas))]\n",
    "bct_effects = [bct_probas[i][0] - bct_probas[i][1] for i in range(len(bct_probas))]\n",
    "qct_effects = [qct_probas[i][0] - qct_probas[i][1] for i in range(len(qct_probas))]"
   ]
  },
  {
   "cell_type": "code",
   "execution_count": null,
   "metadata": {},
   "outputs": [],
   "source": [
    "eval_dict = {'y_test': y_test, 'w_test': w_test, \n",
    "             'two_model': tm_effects, 'interaction_term': it_effects, \n",
    "             'binary_trans': bct_effects, 'quaternary_trans': qct_effects}"
   ]
  },
  {
   "cell_type": "code",
   "execution_count": null,
   "metadata": {},
   "outputs": [],
   "source": [
    "df_eval = pd.DataFrame(eval_dict, columns = eval_dict.keys())\n",
    "\n",
    "display(df_eval.head())\n",
    "df_eval.shape"
   ]
  },
  {
   "cell_type": "code",
   "execution_count": null,
   "metadata": {},
   "outputs": [],
   "source": [
    "models = [col for col in eval_dict.keys() if col not in ['y_test', 'w_test']]"
   ]
  },
  {
   "cell_type": "markdown",
   "metadata": {},
   "source": [
    "## Visual"
   ]
  },
  {
   "cell_type": "code",
   "execution_count": null,
   "metadata": {},
   "outputs": [],
   "source": [
    "fig, (ax1, ax2) = plt.subplots(ncols=2, sharey=False, figsize=(20,5))\n",
    "\n",
    "plot_cum_effect(df=df_eval, n=100, models=models, percent_of_pop=False, \n",
    "                outcome_col='y_test', treatment_col='w_test', random_seed=42, \n",
    "                figsize=(10,5), fontsize=20, axis=ax1, legend_metrics=False)\n",
    "\n",
    "plot_batch_responses(df=df_eval, n=10, models=models, \n",
    "                     outcome_col='y_test', treatment_col='w_test', normalize=False,\n",
    "                     figsize=None, fontsize=15, axis=ax2)"
   ]
  },
  {
   "cell_type": "code",
   "execution_count": null,
   "metadata": {},
   "outputs": [],
   "source": [
    "fig, (ax1, ax2) = plt.subplots(nrows=1, ncols=2, sharey=False, figsize=(20,5))\n",
    "\n",
    "plot_cum_gain(df=df_eval, n=100, models=models, percent_of_pop=True,\n",
    "              outcome_col='y_test', treatment_col='w_test', normalize=True, random_seed=42, \n",
    "              figsize=None, fontsize=20, axis=ax1, legend_metrics=True)\n",
    "\n",
    "plot_qini(df=df_eval, n=100, models=models, percent_of_pop=True, \n",
    "          outcome_col='y_test', treatment_col='w_test', normalize=True, random_seed=42, \n",
    "          figsize=None, fontsize=20, axis=ax2, legend_metrics=True)"
   ]
  },
  {
   "cell_type": "markdown",
   "metadata": {},
   "source": [
    "## Variance"
   ]
  },
  {
   "cell_type": "code",
   "execution_count": null,
   "metadata": {},
   "outputs": [],
   "source": []
  },
  {
   "cell_type": "markdown",
   "metadata": {},
   "source": [
    "## Econometric"
   ]
  },
  {
   "cell_type": "code",
   "execution_count": null,
   "metadata": {},
   "outputs": [],
   "source": []
  },
  {
   "cell_type": "markdown",
   "metadata": {},
   "source": [
    "# Summary"
   ]
  }
 ],
 "metadata": {
  "kernelspec": {
   "display_name": "Python 3",
   "language": "python",
   "name": "python3"
  },
  "language_info": {
   "codemirror_mode": {
    "name": "ipython",
    "version": 3
   },
   "file_extension": ".py",
   "mimetype": "text/x-python",
   "name": "python",
   "nbconvert_exporter": "python",
   "pygments_lexer": "ipython3",
   "version": "3.7.6"
  },
  "toc": {
   "base_numbering": 1,
   "nav_menu": {},
   "number_sections": true,
   "sideBar": true,
   "skip_h1_title": false,
   "title_cell": "Table of Contents",
   "title_sidebar": "Contents",
   "toc_cell": true,
   "toc_position": {},
   "toc_section_display": true,
   "toc_window_display": false
  }
 },
 "nbformat": 4,
 "nbformat_minor": 2
}
