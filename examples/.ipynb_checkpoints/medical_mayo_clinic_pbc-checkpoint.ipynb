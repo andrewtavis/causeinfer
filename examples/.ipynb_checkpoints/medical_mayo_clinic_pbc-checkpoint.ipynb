{
 "cells": [
  {
   "cell_type": "code",
   "execution_count": null,
   "metadata": {},
   "outputs": [],
   "source": [
    "import sys\n",
    "import os\n",
    "import numpy as np\n",
    "import pandas as pd\n",
    "\n",
    "# Python helpers\n",
    "prog_general_dir = \"/Users/andrewmcallister/Documents/learning/work/programming/general\"\n",
    "general_helpers_dir = \"/Users/andrewmcallister/Documents/learning/work/programming/general/helpers\"\n",
    "sys.path.insert(1, prog_general_dir)\n",
    "sys.path.insert(1, general_helpers_dir)\n",
    "import helpers_py # see https://github.com/andrewtavis/general\n",
    "\n",
    "# CauseInfer\n",
    "from causeinfer.data import mayo_pbc\n",
    "\n",
    "pd.set_option(\"display.max_rows\", 16)\n",
    "pd.set_option('display.max_columns', None)\n",
    "from IPython.core.display import display, HTML\n",
    "display(HTML(\"<style>.container { width:99% !important; }</style>\"))"
   ]
  },
  {
   "cell_type": "code",
   "execution_count": null,
   "metadata": {},
   "outputs": [],
   "source": [
    "os.getcwd()"
   ]
  },
  {
   "cell_type": "code",
   "execution_count": null,
   "metadata": {},
   "outputs": [],
   "source": [
    "head_shape = helpers_py.head_shape"
   ]
  },
  {
   "cell_type": "code",
   "execution_count": null,
   "metadata": {},
   "outputs": [],
   "source": [
    "mayo_pbc.download_mayo_pbc()\n",
    "data_mayo_pbc = mayo_pbc.load_mayo_pbc(data_path=\"/datasets/mayo_pbc.text\", normalize=True)"
   ]
  },
  {
   "cell_type": "code",
   "execution_count": null,
   "metadata": {},
   "outputs": [],
   "source": [
    "df_full_mayo_pbc = pd.DataFrame(data_mayo_pbc[\"dataset_full\"], \n",
    "                                 columns=data_mayo_pbc[\"dataset_full_names\"])\n",
    "head_shape(df_full_mayo_pbc)"
   ]
  },
  {
   "cell_type": "code",
   "execution_count": null,
   "metadata": {},
   "outputs": [],
   "source": [
    "df_mayo_pbc = pd.DataFrame(data_mayo_pbc[\"features\"], \n",
    "                            columns=data_mayo_pbc[\"feature_names\"])\n",
    "head_shape(df_mayo_pbc)"
   ]
  }
 ],
 "metadata": {
  "kernelspec": {
   "display_name": "Python 3",
   "language": "python",
   "name": "python3"
  },
  "language_info": {
   "codemirror_mode": {
    "name": "ipython",
    "version": 3
   },
   "file_extension": ".py",
   "mimetype": "text/x-python",
   "name": "python",
   "nbconvert_exporter": "python",
   "pygments_lexer": "ipython3",
   "version": "3.7.6"
  },
  "toc": {
   "base_numbering": 1,
   "nav_menu": {},
   "number_sections": true,
   "sideBar": true,
   "skip_h1_title": false,
   "title_cell": "Table of Contents",
   "title_sidebar": "Contents",
   "toc_cell": false,
   "toc_position": {},
   "toc_section_display": true,
   "toc_window_display": false
  }
 },
 "nbformat": 4,
 "nbformat_minor": 2
}
