{
 "cells": [
  {
   "cell_type": "markdown",
   "metadata": {},
   "source": [
    "**Center for Microfinance Dataset**\n",
    "\n",
    "A dataset on microfinance from The Centre for Micro Finance (CMF) at the Institute for Financial Management Research (Chennai, India)."
   ]
  },
  {
   "cell_type": "markdown",
   "metadata": {
    "toc": true
   },
   "source": [
    "<h1>Table of Contents<span class=\"tocSkip\"></span></h1>\n",
    "<div class=\"toc\"><ul class=\"toc-item\"><li><span><a href=\"#Load-Data\" data-toc-modified-id=\"Load-Data-1\"><span class=\"toc-item-num\">1&nbsp;&nbsp;</span>Load Data</a></span><ul class=\"toc-item\"><li><span><a href=\"#Exploration-Data\" data-toc-modified-id=\"Exploration-Data-1.1\"><span class=\"toc-item-num\">1.1&nbsp;&nbsp;</span>Exploration Data</a></span></li><li><span><a href=\"#Modeling-Data\" data-toc-modified-id=\"Modeling-Data-1.2\"><span class=\"toc-item-num\">1.2&nbsp;&nbsp;</span>Modeling Data</a></span></li></ul></li><li><span><a href=\"#Data-Exploration\" data-toc-modified-id=\"Data-Exploration-2\"><span class=\"toc-item-num\">2&nbsp;&nbsp;</span>Data Exploration</a></span><ul class=\"toc-item\"><li><span><a href=\"#Full-Data-Visualization\" data-toc-modified-id=\"Full-Data-Visualization-2.1\"><span class=\"toc-item-num\">2.1&nbsp;&nbsp;</span>Full Data Visualization</a></span></li><li><span><a href=\"#Modeling-Data-Preparation\" data-toc-modified-id=\"Modeling-Data-Preparation-2.2\"><span class=\"toc-item-num\">2.2&nbsp;&nbsp;</span>Modeling Data Preparation</a></span></li></ul></li><li><span><a href=\"#Standard-Models\" data-toc-modified-id=\"Standard-Models-3\"><span class=\"toc-item-num\">3&nbsp;&nbsp;</span>Standard Models</a></span><ul class=\"toc-item\"><li><span><a href=\"#Two-Model\" data-toc-modified-id=\"Two-Model-3.1\"><span class=\"toc-item-num\">3.1&nbsp;&nbsp;</span>Two Model</a></span></li><li><span><a href=\"#Interaction-Term\" data-toc-modified-id=\"Interaction-Term-3.2\"><span class=\"toc-item-num\">3.2&nbsp;&nbsp;</span>Interaction Term</a></span></li><li><span><a href=\"#Class-Transformations\" data-toc-modified-id=\"Class-Transformations-3.3\"><span class=\"toc-item-num\">3.3&nbsp;&nbsp;</span>Class Transformations</a></span></li></ul></li><li><span><a href=\"#Evaluation\" data-toc-modified-id=\"Evaluation-4\"><span class=\"toc-item-num\">4&nbsp;&nbsp;</span>Evaluation</a></span><ul class=\"toc-item\"><li><span><a href=\"#Iterations\" data-toc-modified-id=\"Iterations-4.1\"><span class=\"toc-item-num\">4.1&nbsp;&nbsp;</span>Iterations</a></span></li><li><span><a href=\"#Visual\" data-toc-modified-id=\"Visual-4.2\"><span class=\"toc-item-num\">4.2&nbsp;&nbsp;</span>Visual</a></span></li><li><span><a href=\"#Iterated-Evaluation-and-Variance\" data-toc-modified-id=\"Iterated-Evaluation-and-Variance-4.3\"><span class=\"toc-item-num\">4.3&nbsp;&nbsp;</span>Iterated Evaluation and Variance</a></span></li></ul></li><li><span><a href=\"#Summary\" data-toc-modified-id=\"Summary-5\"><span class=\"toc-item-num\">5&nbsp;&nbsp;</span>Summary</a></span></li></ul></div>"
   ]
  },
  {
   "cell_type": "code",
   "execution_count": 12,
   "metadata": {
    "ExecuteTime": {
     "end_time": "2020-02-02T18:26:16.713376Z",
     "start_time": "2020-02-02T18:26:16.706640Z"
    }
   },
   "outputs": [
    {
     "data": {
      "text/html": [
       "<style>.container { width:99% !important; }</style>"
      ],
      "text/plain": [
       "<IPython.core.display.HTML object>"
      ]
     },
     "metadata": {},
     "output_type": "display_data"
    }
   ],
   "source": [
    "import sys\n",
    "import numpy as np\n",
    "import pandas as pd\n",
    "import matplotlib.pyplot as plt\n",
    "import seaborn as sns\n",
    "\n",
    "from sklearn.ensemble import RandomForestRegressor\n",
    "\n",
    "from causeinfer.data import cmf_micro\n",
    "from causeinfer.utils import plot_unit_distributions, train_test_split, over_sample\n",
    "from causeinfer.standard_algorithms import TwoModel, InteractionTerm\n",
    "from causeinfer.evaluation import qini_score, auuc_score\n",
    "from causeinfer.evaluation import plot_cum_effect, plot_cum_gain, plot_qini\n",
    "from causeinfer.evaluation import plot_batch_responses, signal_to_noise\n",
    "from causeinfer.evaluation import iterate_model, eval_table\n",
    "\n",
    "pd.set_option(\"display.max_rows\", 16)\n",
    "pd.set_option('display.max_columns', None)\n",
    "from IPython.core.display import display, HTML\n",
    "display(HTML(\"<style>.container { width:99% !important; }</style>\"))"
   ]
  },
  {
   "cell_type": "markdown",
   "metadata": {},
   "source": [
    "# Load Data"
   ]
  },
  {
   "cell_type": "code",
   "execution_count": 13,
   "metadata": {
    "ExecuteTime": {
     "end_time": "2020-02-02T18:26:18.238703Z",
     "start_time": "2020-02-02T18:26:18.236354Z"
    }
   },
   "outputs": [],
   "source": [
    "# Deprecated - see: https://github.com/andrewtavis/causeinfer/tree/master/causeinfer/data/datasets\n",
    "# cmf_micro.download_cmf_micro() "
   ]
  },
  {
   "cell_type": "markdown",
   "metadata": {},
   "source": [
    "## Exploration Data"
   ]
  },
  {
   "cell_type": "code",
   "execution_count": 14,
   "metadata": {
    "ExecuteTime": {
     "end_time": "2020-02-02T18:26:20.210957Z",
     "start_time": "2020-02-02T18:26:19.550492Z"
    }
   },
   "outputs": [
    {
     "data": {
      "text/html": [
       "<div>\n",
       "<style scoped>\n",
       "    .dataframe tbody tr th:only-of-type {\n",
       "        vertical-align: middle;\n",
       "    }\n",
       "\n",
       "    .dataframe tbody tr th {\n",
       "        vertical-align: top;\n",
       "    }\n",
       "\n",
       "    .dataframe thead th {\n",
       "        text-align: right;\n",
       "    }\n",
       "</style>\n",
       "<table border=\"1\" class=\"dataframe\">\n",
       "  <thead>\n",
       "    <tr style=\"text-align: right;\">\n",
       "      <th></th>\n",
       "      <th>treatment</th>\n",
       "      <th>area_id</th>\n",
       "      <th>w</th>\n",
       "      <th>w1</th>\n",
       "      <th>w2</th>\n",
       "      <th>sample1</th>\n",
       "      <th>sample2</th>\n",
       "      <th>old_biz</th>\n",
       "      <th>any_old_biz</th>\n",
       "      <th>area_pop_base</th>\n",
       "      <th>area_debt_total_base</th>\n",
       "      <th>area_business_total_base</th>\n",
       "      <th>area_exp_pc_mean_base</th>\n",
       "      <th>area_literate_head_base</th>\n",
       "      <th>area_literate_base</th>\n",
       "      <th>visitday_1</th>\n",
       "      <th>visitmonth_1</th>\n",
       "      <th>visityear_1</th>\n",
       "      <th>visitday_2</th>\n",
       "      <th>visitmonth_2</th>\n",
       "      <th>visityear_2</th>\n",
       "      <th>hhsize_1</th>\n",
       "      <th>hhsize_adj_1</th>\n",
       "      <th>adults_1</th>\n",
       "      <th>children_1</th>\n",
       "      <th>male_head_1</th>\n",
       "      <th>head_age_1</th>\n",
       "      <th>head_noeduc_1</th>\n",
       "      <th>women1845_1</th>\n",
       "      <th>anychild1318_1</th>\n",
       "      <th>hhsize_2</th>\n",
       "      <th>hhsize_adj_2</th>\n",
       "      <th>adults_2</th>\n",
       "      <th>children_2</th>\n",
       "      <th>male_head_2</th>\n",
       "      <th>head_age_2</th>\n",
       "      <th>head_noeduc_2</th>\n",
       "      <th>women1845_2</th>\n",
       "      <th>anychild1318_2</th>\n",
       "      <th>spouse_literate_1</th>\n",
       "      <th>spouse_works_wage_1</th>\n",
       "      <th>ownland_hyderabad_1</th>\n",
       "      <th>ownland_village_1</th>\n",
       "      <th>spouse_literate_2</th>\n",
       "      <th>spouse_works_wage_2</th>\n",
       "      <th>ownland_hyderabad_2</th>\n",
       "      <th>ownland_village_2</th>\n",
       "      <th>spandana_1</th>\n",
       "      <th>othermfi_1</th>\n",
       "      <th>anymfi_1</th>\n",
       "      <th>anybank_1</th>\n",
       "      <th>anyinformal_1</th>\n",
       "      <th>anyloan_1</th>\n",
       "      <th>everlate_1</th>\n",
       "      <th>mfi_loan_cycles_1</th>\n",
       "      <th>spandana_amt_1</th>\n",
       "      <th>othermfi_amt_1</th>\n",
       "      <th>anymfi_amt_1</th>\n",
       "      <th>bank_amt_1</th>\n",
       "      <th>informal_amt_1</th>\n",
       "      <th>anyloan_amt_1</th>\n",
       "      <th>spandana_2</th>\n",
       "      <th>othermfi_2</th>\n",
       "      <th>anymfi_2</th>\n",
       "      <th>anybank_2</th>\n",
       "      <th>anyinformal_2</th>\n",
       "      <th>anyloan_2</th>\n",
       "      <th>everlate_2</th>\n",
       "      <th>mfi_loan_cycles_2</th>\n",
       "      <th>spandana_amt_2</th>\n",
       "      <th>othermfi_amt_2</th>\n",
       "      <th>anymfi_amt_2</th>\n",
       "      <th>bank_amt_2</th>\n",
       "      <th>informal_amt_2</th>\n",
       "      <th>anyloan_amt_2</th>\n",
       "      <th>bizassets_1</th>\n",
       "      <th>bizinvestment_1</th>\n",
       "      <th>bizrev_1</th>\n",
       "      <th>bizexpense_1</th>\n",
       "      <th>bizprofit_1</th>\n",
       "      <th>bizemployees_1</th>\n",
       "      <th>any_biz_1</th>\n",
       "      <th>total_biz_1</th>\n",
       "      <th>any_new_biz_1</th>\n",
       "      <th>biz_stop_1</th>\n",
       "      <th>newbiz_1</th>\n",
       "      <th>female_biz_1</th>\n",
       "      <th>female_biz_new_1</th>\n",
       "      <th>bizassets_2</th>\n",
       "      <th>bizinvestment_2</th>\n",
       "      <th>bizrev_2</th>\n",
       "      <th>bizexpense_2</th>\n",
       "      <th>bizprofit_2</th>\n",
       "      <th>bizemployees_2</th>\n",
       "      <th>any_biz_2</th>\n",
       "      <th>total_biz_2</th>\n",
       "      <th>any_new_biz_2</th>\n",
       "      <th>biz_stop_2</th>\n",
       "      <th>newbiz_2</th>\n",
       "      <th>female_biz_2</th>\n",
       "      <th>female_biz_new_2</th>\n",
       "      <th>wages_nonbiz_1</th>\n",
       "      <th>wages_nonbiz_2</th>\n",
       "      <th>hours_week_1</th>\n",
       "      <th>hours_week_biz_1</th>\n",
       "      <th>hours_week_outside_1</th>\n",
       "      <th>hours_headspouse_week_1</th>\n",
       "      <th>hours_headspouse_outside_1</th>\n",
       "      <th>hours_headspouse_biz_1</th>\n",
       "      <th>hours_child1620_week_1</th>\n",
       "      <th>hours_girl1620_week_1</th>\n",
       "      <th>hours_boy1620_week_1</th>\n",
       "      <th>hours_week_2</th>\n",
       "      <th>hours_week_biz_2</th>\n",
       "      <th>hours_week_outside_2</th>\n",
       "      <th>hours_headspouse_week_2</th>\n",
       "      <th>hours_headspouse_outside_2</th>\n",
       "      <th>hours_headspouse_biz_2</th>\n",
       "      <th>hours_child1620_week_2</th>\n",
       "      <th>hours_girl1620_week_2</th>\n",
       "      <th>hours_boy1620_week_2</th>\n",
       "      <th>total_exp_mo_1</th>\n",
       "      <th>durables_exp_mo_1</th>\n",
       "      <th>nondurable_exp_mo_1</th>\n",
       "      <th>health_exp_mo_1</th>\n",
       "      <th>educ_exp_mo_1</th>\n",
       "      <th>festival_exp_annual_1</th>\n",
       "      <th>temptation_exp_mo_1</th>\n",
       "      <th>food_exp_mo_1</th>\n",
       "      <th>total_exp_mo_pc_1</th>\n",
       "      <th>durables_exp_mo_pc_1</th>\n",
       "      <th>nondurable_exp_mo_pc_1</th>\n",
       "      <th>food_exp_mo_pc_1</th>\n",
       "      <th>health_exp_mo_pc_1</th>\n",
       "      <th>educ_exp_mo_pc_1</th>\n",
       "      <th>temptation_exp_mo_pc_1</th>\n",
       "      <th>festival_exp_mo_pc_1</th>\n",
       "      <th>home_durable_index_1</th>\n",
       "      <th>total_exp_mo_2</th>\n",
       "      <th>durables_exp_mo_2</th>\n",
       "      <th>nondurable_exp_mo_2</th>\n",
       "      <th>health_exp_mo_2</th>\n",
       "      <th>educ_exp_mo_2</th>\n",
       "      <th>festival_exp_annual_2</th>\n",
       "      <th>temptation_exp_mo_2</th>\n",
       "      <th>food_exp_mo_2</th>\n",
       "      <th>total_exp_mo_pc_2</th>\n",
       "      <th>durables_exp_mo_pc_2</th>\n",
       "      <th>nondurable_exp_mo_pc_2</th>\n",
       "      <th>food_exp_mo_pc_2</th>\n",
       "      <th>health_exp_mo_pc_2</th>\n",
       "      <th>educ_exp_mo_pc_2</th>\n",
       "      <th>temptation_exp_mo_pc_2</th>\n",
       "      <th>festival_exp_mo_pc_2</th>\n",
       "      <th>home_durable_index_2</th>\n",
       "      <th>girl515_school_1</th>\n",
       "      <th>boy515_school_1</th>\n",
       "      <th>girl515_workhrs_pc_1</th>\n",
       "      <th>boy515_workhrs_pc_1</th>\n",
       "      <th>girl1620_school_1</th>\n",
       "      <th>boy1620_school_1</th>\n",
       "      <th>female_biz_pct_1</th>\n",
       "      <th>girl515_school_2</th>\n",
       "      <th>boy515_school_2</th>\n",
       "      <th>girl515_workhrs_pc_2</th>\n",
       "      <th>boy515_workhrs_pc_2</th>\n",
       "      <th>girl1620_school_2</th>\n",
       "      <th>boy1620_school_2</th>\n",
       "      <th>women_emp_index_2</th>\n",
       "      <th>female_biz_pct_2</th>\n",
       "      <th>credit_index_1</th>\n",
       "      <th>biz_index_old_1</th>\n",
       "      <th>biz_index_new_1</th>\n",
       "      <th>income_index_1</th>\n",
       "      <th>labor_index_1</th>\n",
       "      <th>consumption_index_1</th>\n",
       "      <th>social_index_1</th>\n",
       "      <th>credit_index_2</th>\n",
       "      <th>biz_index_all_2</th>\n",
       "      <th>biz_index_old_2</th>\n",
       "      <th>income_index_2</th>\n",
       "      <th>labor_index_2</th>\n",
       "      <th>consumption_index_2</th>\n",
       "      <th>women_emp_index_1</th>\n",
       "      <th>biz_index_all_1</th>\n",
       "      <th>social_index_2</th>\n",
       "    </tr>\n",
       "  </thead>\n",
       "  <tbody>\n",
       "    <tr>\n",
       "      <th>0</th>\n",
       "      <td>1.0</td>\n",
       "      <td>1.0</td>\n",
       "      <td>0.819672</td>\n",
       "      <td>0.777092</td>\n",
       "      <td>0.819672</td>\n",
       "      <td>1.0</td>\n",
       "      <td>1.0</td>\n",
       "      <td>0.0</td>\n",
       "      <td>0.0</td>\n",
       "      <td>272.0</td>\n",
       "      <td>81050.0</td>\n",
       "      <td>11.0</td>\n",
       "      <td>1334.766113</td>\n",
       "      <td>0.5</td>\n",
       "      <td>0.533898</td>\n",
       "      <td>22.0</td>\n",
       "      <td>8.0</td>\n",
       "      <td>2007.0</td>\n",
       "      <td>16.0</td>\n",
       "      <td>12.0</td>\n",
       "      <td>2009.0</td>\n",
       "      <td>3.0</td>\n",
       "      <td>2.80</td>\n",
       "      <td>3.0</td>\n",
       "      <td>0.0</td>\n",
       "      <td>1.0</td>\n",
       "      <td>20.0</td>\n",
       "      <td>1.0</td>\n",
       "      <td>2.0</td>\n",
       "      <td>0.0</td>\n",
       "      <td>3.0</td>\n",
       "      <td>2.42</td>\n",
       "      <td>2.0</td>\n",
       "      <td>1.0</td>\n",
       "      <td>1.0</td>\n",
       "      <td>32.0</td>\n",
       "      <td>0.0</td>\n",
       "      <td>1.0</td>\n",
       "      <td>0.0</td>\n",
       "      <td>1.0</td>\n",
       "      <td>0.0</td>\n",
       "      <td>0.0</td>\n",
       "      <td>0.0</td>\n",
       "      <td>1.0</td>\n",
       "      <td>0.0</td>\n",
       "      <td>0.0</td>\n",
       "      <td>0.0</td>\n",
       "      <td>1.0</td>\n",
       "      <td>0.0</td>\n",
       "      <td>1.0</td>\n",
       "      <td>0.0</td>\n",
       "      <td>1.0</td>\n",
       "      <td>1.0</td>\n",
       "      <td>1.0</td>\n",
       "      <td>1.0</td>\n",
       "      <td>18000.0</td>\n",
       "      <td>0.0</td>\n",
       "      <td>18000.0</td>\n",
       "      <td>0.0</td>\n",
       "      <td>93540.0</td>\n",
       "      <td>115780.0</td>\n",
       "      <td>0.0</td>\n",
       "      <td>0.0</td>\n",
       "      <td>0.0</td>\n",
       "      <td>0.0</td>\n",
       "      <td>0.0</td>\n",
       "      <td>1.0</td>\n",
       "      <td>1.0</td>\n",
       "      <td>NaN</td>\n",
       "      <td>0.0</td>\n",
       "      <td>0.0</td>\n",
       "      <td>0.0</td>\n",
       "      <td>0.0</td>\n",
       "      <td>0.000000</td>\n",
       "      <td>11000.0</td>\n",
       "      <td>0.0</td>\n",
       "      <td>0.0</td>\n",
       "      <td>0.0</td>\n",
       "      <td>0.0</td>\n",
       "      <td>0.0</td>\n",
       "      <td>0.0</td>\n",
       "      <td>0.0</td>\n",
       "      <td>0.0</td>\n",
       "      <td>0.0</td>\n",
       "      <td>0.0</td>\n",
       "      <td>0.0</td>\n",
       "      <td>0.0</td>\n",
       "      <td>0.0</td>\n",
       "      <td>0.000000</td>\n",
       "      <td>0.0</td>\n",
       "      <td>0.000000</td>\n",
       "      <td>0.000000</td>\n",
       "      <td>0.000000</td>\n",
       "      <td>0.0</td>\n",
       "      <td>0.0</td>\n",
       "      <td>0.0</td>\n",
       "      <td>0.0</td>\n",
       "      <td>0.0</td>\n",
       "      <td>0.0</td>\n",
       "      <td>0.0</td>\n",
       "      <td>0.0</td>\n",
       "      <td>2000.0</td>\n",
       "      <td>7000.0</td>\n",
       "      <td>48.0</td>\n",
       "      <td>0.0</td>\n",
       "      <td>48.0</td>\n",
       "      <td>48.0</td>\n",
       "      <td>48.0</td>\n",
       "      <td>0.0</td>\n",
       "      <td>48.0</td>\n",
       "      <td>0.0</td>\n",
       "      <td>48.0</td>\n",
       "      <td>84.0</td>\n",
       "      <td>0.0</td>\n",
       "      <td>84.0</td>\n",
       "      <td>84.0</td>\n",
       "      <td>84.0</td>\n",
       "      <td>0.0</td>\n",
       "      <td>NaN</td>\n",
       "      <td>NaN</td>\n",
       "      <td>NaN</td>\n",
       "      <td>2154.000000</td>\n",
       "      <td>NaN</td>\n",
       "      <td>NaN</td>\n",
       "      <td>250.000000</td>\n",
       "      <td>NaN</td>\n",
       "      <td>600.0</td>\n",
       "      <td>170.0</td>\n",
       "      <td>1084.0</td>\n",
       "      <td>769.285706</td>\n",
       "      <td>NaN</td>\n",
       "      <td>NaN</td>\n",
       "      <td>387.142853</td>\n",
       "      <td>89.285713</td>\n",
       "      <td>NaN</td>\n",
       "      <td>60.714287</td>\n",
       "      <td>17.857143</td>\n",
       "      <td>2.693964</td>\n",
       "      <td>4128.382324</td>\n",
       "      <td>138.829819</td>\n",
       "      <td>3989.552734</td>\n",
       "      <td>63.167572</td>\n",
       "      <td>763.564026</td>\n",
       "      <td>1665.957857</td>\n",
       "      <td>0.000000</td>\n",
       "      <td>2372.0</td>\n",
       "      <td>1705.943115</td>\n",
       "      <td>57.367695</td>\n",
       "      <td>1648.575439</td>\n",
       "      <td>980.165283</td>\n",
       "      <td>26.102303</td>\n",
       "      <td>315.522308</td>\n",
       "      <td>0.000000</td>\n",
       "      <td>57.367695</td>\n",
       "      <td>2.677674</td>\n",
       "      <td>NaN</td>\n",
       "      <td>NaN</td>\n",
       "      <td>NaN</td>\n",
       "      <td>NaN</td>\n",
       "      <td>0.0</td>\n",
       "      <td>1.0</td>\n",
       "      <td>NaN</td>\n",
       "      <td>1.0</td>\n",
       "      <td>NaN</td>\n",
       "      <td>0.0</td>\n",
       "      <td>NaN</td>\n",
       "      <td>NaN</td>\n",
       "      <td>NaN</td>\n",
       "      <td>-0.428467</td>\n",
       "      <td>NaN</td>\n",
       "      <td>1.135847</td>\n",
       "      <td>NaN</td>\n",
       "      <td>NaN</td>\n",
       "      <td>-0.160999</td>\n",
       "      <td>-0.104168</td>\n",
       "      <td>-0.166209</td>\n",
       "      <td>-0.078313</td>\n",
       "      <td>-0.420189</td>\n",
       "      <td>-0.319804</td>\n",
       "      <td>NaN</td>\n",
       "      <td>0.089781</td>\n",
       "      <td>0.220555</td>\n",
       "      <td>-0.156785</td>\n",
       "      <td>-0.415386</td>\n",
       "      <td>-0.223974</td>\n",
       "      <td>-0.058573</td>\n",
       "    </tr>\n",
       "    <tr>\n",
       "      <th>1</th>\n",
       "      <td>1.0</td>\n",
       "      <td>1.0</td>\n",
       "      <td>1.000000</td>\n",
       "      <td>1.000000</td>\n",
       "      <td>1.000000</td>\n",
       "      <td>1.0</td>\n",
       "      <td>1.0</td>\n",
       "      <td>0.0</td>\n",
       "      <td>0.0</td>\n",
       "      <td>272.0</td>\n",
       "      <td>81050.0</td>\n",
       "      <td>11.0</td>\n",
       "      <td>1334.766113</td>\n",
       "      <td>0.5</td>\n",
       "      <td>0.533898</td>\n",
       "      <td>22.0</td>\n",
       "      <td>8.0</td>\n",
       "      <td>2007.0</td>\n",
       "      <td>16.0</td>\n",
       "      <td>12.0</td>\n",
       "      <td>2009.0</td>\n",
       "      <td>4.0</td>\n",
       "      <td>3.24</td>\n",
       "      <td>2.0</td>\n",
       "      <td>2.0</td>\n",
       "      <td>1.0</td>\n",
       "      <td>34.0</td>\n",
       "      <td>0.0</td>\n",
       "      <td>1.0</td>\n",
       "      <td>0.0</td>\n",
       "      <td>4.0</td>\n",
       "      <td>3.51</td>\n",
       "      <td>2.0</td>\n",
       "      <td>2.0</td>\n",
       "      <td>1.0</td>\n",
       "      <td>37.0</td>\n",
       "      <td>0.0</td>\n",
       "      <td>1.0</td>\n",
       "      <td>1.0</td>\n",
       "      <td>1.0</td>\n",
       "      <td>1.0</td>\n",
       "      <td>0.0</td>\n",
       "      <td>0.0</td>\n",
       "      <td>1.0</td>\n",
       "      <td>1.0</td>\n",
       "      <td>0.0</td>\n",
       "      <td>0.0</td>\n",
       "      <td>0.0</td>\n",
       "      <td>0.0</td>\n",
       "      <td>0.0</td>\n",
       "      <td>0.0</td>\n",
       "      <td>0.0</td>\n",
       "      <td>0.0</td>\n",
       "      <td>0.0</td>\n",
       "      <td>0.0</td>\n",
       "      <td>0.0</td>\n",
       "      <td>0.0</td>\n",
       "      <td>0.0</td>\n",
       "      <td>0.0</td>\n",
       "      <td>0.0</td>\n",
       "      <td>0.0</td>\n",
       "      <td>0.0</td>\n",
       "      <td>0.0</td>\n",
       "      <td>0.0</td>\n",
       "      <td>0.0</td>\n",
       "      <td>0.0</td>\n",
       "      <td>1.0</td>\n",
       "      <td>0.0</td>\n",
       "      <td>0.0</td>\n",
       "      <td>0.0</td>\n",
       "      <td>0.0</td>\n",
       "      <td>0.0</td>\n",
       "      <td>0.0</td>\n",
       "      <td>0.000000</td>\n",
       "      <td>25000.0</td>\n",
       "      <td>0.0</td>\n",
       "      <td>0.0</td>\n",
       "      <td>0.0</td>\n",
       "      <td>0.0</td>\n",
       "      <td>0.0</td>\n",
       "      <td>0.0</td>\n",
       "      <td>0.0</td>\n",
       "      <td>0.0</td>\n",
       "      <td>0.0</td>\n",
       "      <td>0.0</td>\n",
       "      <td>0.0</td>\n",
       "      <td>0.0</td>\n",
       "      <td>0.0</td>\n",
       "      <td>0.000000</td>\n",
       "      <td>0.0</td>\n",
       "      <td>0.000000</td>\n",
       "      <td>0.000000</td>\n",
       "      <td>0.000000</td>\n",
       "      <td>0.0</td>\n",
       "      <td>0.0</td>\n",
       "      <td>0.0</td>\n",
       "      <td>0.0</td>\n",
       "      <td>0.0</td>\n",
       "      <td>0.0</td>\n",
       "      <td>0.0</td>\n",
       "      <td>0.0</td>\n",
       "      <td>3900.0</td>\n",
       "      <td>4000.0</td>\n",
       "      <td>8.0</td>\n",
       "      <td>0.0</td>\n",
       "      <td>8.0</td>\n",
       "      <td>8.0</td>\n",
       "      <td>4.0</td>\n",
       "      <td>4.0</td>\n",
       "      <td>NaN</td>\n",
       "      <td>NaN</td>\n",
       "      <td>NaN</td>\n",
       "      <td>126.0</td>\n",
       "      <td>0.0</td>\n",
       "      <td>126.0</td>\n",
       "      <td>126.0</td>\n",
       "      <td>126.0</td>\n",
       "      <td>0.0</td>\n",
       "      <td>NaN</td>\n",
       "      <td>NaN</td>\n",
       "      <td>NaN</td>\n",
       "      <td>4442.500000</td>\n",
       "      <td>29.166666</td>\n",
       "      <td>4413.333496</td>\n",
       "      <td>183.333328</td>\n",
       "      <td>825.000000</td>\n",
       "      <td>3300.0</td>\n",
       "      <td>0.0</td>\n",
       "      <td>2175.0</td>\n",
       "      <td>1371.141968</td>\n",
       "      <td>9.002058</td>\n",
       "      <td>1362.139893</td>\n",
       "      <td>671.296265</td>\n",
       "      <td>56.584362</td>\n",
       "      <td>254.629623</td>\n",
       "      <td>0.000000</td>\n",
       "      <td>84.876541</td>\n",
       "      <td>2.199033</td>\n",
       "      <td>6835.425293</td>\n",
       "      <td>793.412415</td>\n",
       "      <td>6042.012695</td>\n",
       "      <td>20.824472</td>\n",
       "      <td>2235.160156</td>\n",
       "      <td>3373.564661</td>\n",
       "      <td>533.106506</td>\n",
       "      <td>2344.0</td>\n",
       "      <td>1947.414673</td>\n",
       "      <td>226.043427</td>\n",
       "      <td>1721.371094</td>\n",
       "      <td>667.806274</td>\n",
       "      <td>5.932898</td>\n",
       "      <td>636.797791</td>\n",
       "      <td>151.882202</td>\n",
       "      <td>80.094131</td>\n",
       "      <td>3.608803</td>\n",
       "      <td>1.0</td>\n",
       "      <td>1.0</td>\n",
       "      <td>0.0</td>\n",
       "      <td>0.0</td>\n",
       "      <td>NaN</td>\n",
       "      <td>NaN</td>\n",
       "      <td>NaN</td>\n",
       "      <td>1.0</td>\n",
       "      <td>1.0</td>\n",
       "      <td>0.0</td>\n",
       "      <td>0.0</td>\n",
       "      <td>NaN</td>\n",
       "      <td>NaN</td>\n",
       "      <td>-0.382995</td>\n",
       "      <td>NaN</td>\n",
       "      <td>-0.492113</td>\n",
       "      <td>NaN</td>\n",
       "      <td>NaN</td>\n",
       "      <td>0.081633</td>\n",
       "      <td>-0.632081</td>\n",
       "      <td>-0.029637</td>\n",
       "      <td>0.201462</td>\n",
       "      <td>-0.322687</td>\n",
       "      <td>-0.319804</td>\n",
       "      <td>NaN</td>\n",
       "      <td>-0.176772</td>\n",
       "      <td>0.665412</td>\n",
       "      <td>0.199052</td>\n",
       "      <td>0.562864</td>\n",
       "      <td>-0.223974</td>\n",
       "      <td>-0.009926</td>\n",
       "    </tr>\n",
       "    <tr>\n",
       "      <th>2</th>\n",
       "      <td>1.0</td>\n",
       "      <td>1.0</td>\n",
       "      <td>1.000000</td>\n",
       "      <td>1.000000</td>\n",
       "      <td>1.000000</td>\n",
       "      <td>1.0</td>\n",
       "      <td>1.0</td>\n",
       "      <td>1.0</td>\n",
       "      <td>1.0</td>\n",
       "      <td>272.0</td>\n",
       "      <td>81050.0</td>\n",
       "      <td>11.0</td>\n",
       "      <td>1334.766113</td>\n",
       "      <td>0.5</td>\n",
       "      <td>0.533898</td>\n",
       "      <td>23.0</td>\n",
       "      <td>8.0</td>\n",
       "      <td>2007.0</td>\n",
       "      <td>16.0</td>\n",
       "      <td>12.0</td>\n",
       "      <td>2009.0</td>\n",
       "      <td>5.0</td>\n",
       "      <td>4.18</td>\n",
       "      <td>2.0</td>\n",
       "      <td>3.0</td>\n",
       "      <td>1.0</td>\n",
       "      <td>40.0</td>\n",
       "      <td>0.0</td>\n",
       "      <td>1.0</td>\n",
       "      <td>1.0</td>\n",
       "      <td>6.0</td>\n",
       "      <td>5.35</td>\n",
       "      <td>3.0</td>\n",
       "      <td>3.0</td>\n",
       "      <td>1.0</td>\n",
       "      <td>40.0</td>\n",
       "      <td>0.0</td>\n",
       "      <td>1.0</td>\n",
       "      <td>1.0</td>\n",
       "      <td>1.0</td>\n",
       "      <td>0.0</td>\n",
       "      <td>0.0</td>\n",
       "      <td>1.0</td>\n",
       "      <td>1.0</td>\n",
       "      <td>0.0</td>\n",
       "      <td>0.0</td>\n",
       "      <td>0.0</td>\n",
       "      <td>0.0</td>\n",
       "      <td>0.0</td>\n",
       "      <td>0.0</td>\n",
       "      <td>0.0</td>\n",
       "      <td>1.0</td>\n",
       "      <td>0.0</td>\n",
       "      <td>1.0</td>\n",
       "      <td>0.0</td>\n",
       "      <td>0.0</td>\n",
       "      <td>0.0</td>\n",
       "      <td>0.0</td>\n",
       "      <td>0.0</td>\n",
       "      <td>60000.0</td>\n",
       "      <td>0.0</td>\n",
       "      <td>0.0</td>\n",
       "      <td>0.0</td>\n",
       "      <td>0.0</td>\n",
       "      <td>0.0</td>\n",
       "      <td>0.0</td>\n",
       "      <td>1.0</td>\n",
       "      <td>1.0</td>\n",
       "      <td>0.0</td>\n",
       "      <td>0.0</td>\n",
       "      <td>0.0</td>\n",
       "      <td>0.0</td>\n",
       "      <td>0.0</td>\n",
       "      <td>0.000000</td>\n",
       "      <td>5000.0</td>\n",
       "      <td>2000.0</td>\n",
       "      <td>0.0</td>\n",
       "      <td>1800.0</td>\n",
       "      <td>205.0</td>\n",
       "      <td>1595.0</td>\n",
       "      <td>0.0</td>\n",
       "      <td>1.0</td>\n",
       "      <td>1.0</td>\n",
       "      <td>0.0</td>\n",
       "      <td>0.0</td>\n",
       "      <td>0.0</td>\n",
       "      <td>0.0</td>\n",
       "      <td>0.0</td>\n",
       "      <td>0.000000</td>\n",
       "      <td>0.0</td>\n",
       "      <td>2498.936768</td>\n",
       "      <td>449.808624</td>\n",
       "      <td>2049.128174</td>\n",
       "      <td>0.0</td>\n",
       "      <td>1.0</td>\n",
       "      <td>1.0</td>\n",
       "      <td>0.0</td>\n",
       "      <td>0.0</td>\n",
       "      <td>0.0</td>\n",
       "      <td>0.0</td>\n",
       "      <td>0.0</td>\n",
       "      <td>5000.0</td>\n",
       "      <td>0.0</td>\n",
       "      <td>21.0</td>\n",
       "      <td>21.0</td>\n",
       "      <td>0.0</td>\n",
       "      <td>49.0</td>\n",
       "      <td>0.0</td>\n",
       "      <td>49.0</td>\n",
       "      <td>NaN</td>\n",
       "      <td>NaN</td>\n",
       "      <td>NaN</td>\n",
       "      <td>36.0</td>\n",
       "      <td>36.0</td>\n",
       "      <td>0.0</td>\n",
       "      <td>36.0</td>\n",
       "      <td>0.0</td>\n",
       "      <td>36.0</td>\n",
       "      <td>NaN</td>\n",
       "      <td>NaN</td>\n",
       "      <td>NaN</td>\n",
       "      <td>5207.833496</td>\n",
       "      <td>212.500000</td>\n",
       "      <td>4995.333496</td>\n",
       "      <td>200.000000</td>\n",
       "      <td>976.666687</td>\n",
       "      <td>2000.0</td>\n",
       "      <td>100.0</td>\n",
       "      <td>2510.0</td>\n",
       "      <td>1245.893188</td>\n",
       "      <td>50.837322</td>\n",
       "      <td>1195.055908</td>\n",
       "      <td>600.478516</td>\n",
       "      <td>47.846893</td>\n",
       "      <td>233.652328</td>\n",
       "      <td>23.923447</td>\n",
       "      <td>39.872410</td>\n",
       "      <td>2.455154</td>\n",
       "      <td>11836.075195</td>\n",
       "      <td>1291.117310</td>\n",
       "      <td>10544.958008</td>\n",
       "      <td>388.723480</td>\n",
       "      <td>1499.362061</td>\n",
       "      <td>8329.789286</td>\n",
       "      <td>0.000000</td>\n",
       "      <td>5892.0</td>\n",
       "      <td>2212.350586</td>\n",
       "      <td>241.330353</td>\n",
       "      <td>1971.020142</td>\n",
       "      <td>1101.308472</td>\n",
       "      <td>72.658592</td>\n",
       "      <td>280.254608</td>\n",
       "      <td>0.000000</td>\n",
       "      <td>129.747498</td>\n",
       "      <td>3.363560</td>\n",
       "      <td>NaN</td>\n",
       "      <td>1.0</td>\n",
       "      <td>NaN</td>\n",
       "      <td>0.0</td>\n",
       "      <td>NaN</td>\n",
       "      <td>NaN</td>\n",
       "      <td>0.0</td>\n",
       "      <td>NaN</td>\n",
       "      <td>1.0</td>\n",
       "      <td>NaN</td>\n",
       "      <td>0.0</td>\n",
       "      <td>NaN</td>\n",
       "      <td>NaN</td>\n",
       "      <td>-0.405859</td>\n",
       "      <td>0.0</td>\n",
       "      <td>-0.416555</td>\n",
       "      <td>-0.197126</td>\n",
       "      <td>NaN</td>\n",
       "      <td>0.296675</td>\n",
       "      <td>-0.327149</td>\n",
       "      <td>-0.087983</td>\n",
       "      <td>-0.096513</td>\n",
       "      <td>-0.478224</td>\n",
       "      <td>-0.015660</td>\n",
       "      <td>-0.268047</td>\n",
       "      <td>-0.441344</td>\n",
       "      <td>-0.297447</td>\n",
       "      <td>0.159275</td>\n",
       "      <td>-0.062284</td>\n",
       "      <td>0.065113</td>\n",
       "      <td>-0.144019</td>\n",
       "    </tr>\n",
       "    <tr>\n",
       "      <th>3</th>\n",
       "      <td>1.0</td>\n",
       "      <td>1.0</td>\n",
       "      <td>1.000000</td>\n",
       "      <td>1.000000</td>\n",
       "      <td>1.000000</td>\n",
       "      <td>1.0</td>\n",
       "      <td>1.0</td>\n",
       "      <td>1.0</td>\n",
       "      <td>1.0</td>\n",
       "      <td>272.0</td>\n",
       "      <td>81050.0</td>\n",
       "      <td>11.0</td>\n",
       "      <td>1334.766113</td>\n",
       "      <td>0.5</td>\n",
       "      <td>0.533898</td>\n",
       "      <td>22.0</td>\n",
       "      <td>8.0</td>\n",
       "      <td>2007.0</td>\n",
       "      <td>16.0</td>\n",
       "      <td>12.0</td>\n",
       "      <td>2009.0</td>\n",
       "      <td>5.0</td>\n",
       "      <td>4.03</td>\n",
       "      <td>2.0</td>\n",
       "      <td>3.0</td>\n",
       "      <td>1.0</td>\n",
       "      <td>37.0</td>\n",
       "      <td>0.0</td>\n",
       "      <td>1.0</td>\n",
       "      <td>1.0</td>\n",
       "      <td>7.0</td>\n",
       "      <td>6.08</td>\n",
       "      <td>4.0</td>\n",
       "      <td>3.0</td>\n",
       "      <td>1.0</td>\n",
       "      <td>40.0</td>\n",
       "      <td>0.0</td>\n",
       "      <td>1.0</td>\n",
       "      <td>1.0</td>\n",
       "      <td>0.0</td>\n",
       "      <td>1.0</td>\n",
       "      <td>0.0</td>\n",
       "      <td>0.0</td>\n",
       "      <td>1.0</td>\n",
       "      <td>0.0</td>\n",
       "      <td>0.0</td>\n",
       "      <td>0.0</td>\n",
       "      <td>0.0</td>\n",
       "      <td>0.0</td>\n",
       "      <td>0.0</td>\n",
       "      <td>0.0</td>\n",
       "      <td>1.0</td>\n",
       "      <td>1.0</td>\n",
       "      <td>1.0</td>\n",
       "      <td>0.0</td>\n",
       "      <td>0.0</td>\n",
       "      <td>0.0</td>\n",
       "      <td>0.0</td>\n",
       "      <td>0.0</td>\n",
       "      <td>60000.0</td>\n",
       "      <td>51700.0</td>\n",
       "      <td>0.0</td>\n",
       "      <td>0.0</td>\n",
       "      <td>0.0</td>\n",
       "      <td>0.0</td>\n",
       "      <td>1.0</td>\n",
       "      <td>1.0</td>\n",
       "      <td>1.0</td>\n",
       "      <td>0.0</td>\n",
       "      <td>0.0</td>\n",
       "      <td>0.0</td>\n",
       "      <td>0.0</td>\n",
       "      <td>0.0</td>\n",
       "      <td>462303.305354</td>\n",
       "      <td>565000.0</td>\n",
       "      <td>0.0</td>\n",
       "      <td>0.0</td>\n",
       "      <td>5000.0</td>\n",
       "      <td>205.0</td>\n",
       "      <td>4795.0</td>\n",
       "      <td>0.0</td>\n",
       "      <td>1.0</td>\n",
       "      <td>1.0</td>\n",
       "      <td>0.0</td>\n",
       "      <td>0.0</td>\n",
       "      <td>0.0</td>\n",
       "      <td>0.0</td>\n",
       "      <td>0.0</td>\n",
       "      <td>2915.426270</td>\n",
       "      <td>0.0</td>\n",
       "      <td>2498.936768</td>\n",
       "      <td>416.489471</td>\n",
       "      <td>2082.447266</td>\n",
       "      <td>1.0</td>\n",
       "      <td>1.0</td>\n",
       "      <td>1.0</td>\n",
       "      <td>0.0</td>\n",
       "      <td>0.0</td>\n",
       "      <td>0.0</td>\n",
       "      <td>1.0</td>\n",
       "      <td>0.0</td>\n",
       "      <td>1500.0</td>\n",
       "      <td>0.0</td>\n",
       "      <td>77.0</td>\n",
       "      <td>77.0</td>\n",
       "      <td>0.0</td>\n",
       "      <td>77.0</td>\n",
       "      <td>63.0</td>\n",
       "      <td>14.0</td>\n",
       "      <td>NaN</td>\n",
       "      <td>NaN</td>\n",
       "      <td>NaN</td>\n",
       "      <td>84.0</td>\n",
       "      <td>84.0</td>\n",
       "      <td>0.0</td>\n",
       "      <td>84.0</td>\n",
       "      <td>0.0</td>\n",
       "      <td>84.0</td>\n",
       "      <td>NaN</td>\n",
       "      <td>NaN</td>\n",
       "      <td>NaN</td>\n",
       "      <td>4566.500000</td>\n",
       "      <td>154.166672</td>\n",
       "      <td>4412.333008</td>\n",
       "      <td>0.000000</td>\n",
       "      <td>966.666687</td>\n",
       "      <td>4000.0</td>\n",
       "      <td>0.0</td>\n",
       "      <td>2519.0</td>\n",
       "      <td>1133.126465</td>\n",
       "      <td>38.254753</td>\n",
       "      <td>1094.871704</td>\n",
       "      <td>625.062012</td>\n",
       "      <td>0.000000</td>\n",
       "      <td>239.867645</td>\n",
       "      <td>0.000000</td>\n",
       "      <td>82.712982</td>\n",
       "      <td>1.304456</td>\n",
       "      <td>8740.448242</td>\n",
       "      <td>347.074554</td>\n",
       "      <td>8393.373047</td>\n",
       "      <td>513.670349</td>\n",
       "      <td>2429.521973</td>\n",
       "      <td>6663.831429</td>\n",
       "      <td>0.000000</td>\n",
       "      <td>4368.0</td>\n",
       "      <td>1437.573730</td>\n",
       "      <td>57.084629</td>\n",
       "      <td>1380.489014</td>\n",
       "      <td>718.421082</td>\n",
       "      <td>84.485252</td>\n",
       "      <td>399.592438</td>\n",
       "      <td>0.000000</td>\n",
       "      <td>91.335411</td>\n",
       "      <td>1.915378</td>\n",
       "      <td>1.0</td>\n",
       "      <td>1.0</td>\n",
       "      <td>0.0</td>\n",
       "      <td>0.0</td>\n",
       "      <td>NaN</td>\n",
       "      <td>NaN</td>\n",
       "      <td>0.0</td>\n",
       "      <td>1.0</td>\n",
       "      <td>1.0</td>\n",
       "      <td>0.0</td>\n",
       "      <td>0.0</td>\n",
       "      <td>NaN</td>\n",
       "      <td>NaN</td>\n",
       "      <td>-0.374414</td>\n",
       "      <td>1.0</td>\n",
       "      <td>-0.178390</td>\n",
       "      <td>-0.162268</td>\n",
       "      <td>NaN</td>\n",
       "      <td>-0.000669</td>\n",
       "      <td>0.050992</td>\n",
       "      <td>-0.239553</td>\n",
       "      <td>-0.118175</td>\n",
       "      <td>0.374835</td>\n",
       "      <td>0.044704</td>\n",
       "      <td>-0.181571</td>\n",
       "      <td>-0.439867</td>\n",
       "      <td>0.198170</td>\n",
       "      <td>-0.290614</td>\n",
       "      <td>-0.368029</td>\n",
       "      <td>0.082673</td>\n",
       "      <td>0.147882</td>\n",
       "    </tr>\n",
       "    <tr>\n",
       "      <th>4</th>\n",
       "      <td>1.0</td>\n",
       "      <td>1.0</td>\n",
       "      <td>1.000000</td>\n",
       "      <td>1.000000</td>\n",
       "      <td>1.000000</td>\n",
       "      <td>1.0</td>\n",
       "      <td>1.0</td>\n",
       "      <td>1.0</td>\n",
       "      <td>1.0</td>\n",
       "      <td>272.0</td>\n",
       "      <td>81050.0</td>\n",
       "      <td>11.0</td>\n",
       "      <td>1334.766113</td>\n",
       "      <td>0.5</td>\n",
       "      <td>0.533898</td>\n",
       "      <td>22.0</td>\n",
       "      <td>8.0</td>\n",
       "      <td>2007.0</td>\n",
       "      <td>17.0</td>\n",
       "      <td>12.0</td>\n",
       "      <td>2009.0</td>\n",
       "      <td>6.0</td>\n",
       "      <td>5.41</td>\n",
       "      <td>4.0</td>\n",
       "      <td>2.0</td>\n",
       "      <td>1.0</td>\n",
       "      <td>32.0</td>\n",
       "      <td>0.0</td>\n",
       "      <td>1.0</td>\n",
       "      <td>1.0</td>\n",
       "      <td>6.0</td>\n",
       "      <td>5.41</td>\n",
       "      <td>4.0</td>\n",
       "      <td>2.0</td>\n",
       "      <td>1.0</td>\n",
       "      <td>35.0</td>\n",
       "      <td>0.0</td>\n",
       "      <td>1.0</td>\n",
       "      <td>1.0</td>\n",
       "      <td>1.0</td>\n",
       "      <td>0.0</td>\n",
       "      <td>0.0</td>\n",
       "      <td>1.0</td>\n",
       "      <td>1.0</td>\n",
       "      <td>0.0</td>\n",
       "      <td>0.0</td>\n",
       "      <td>0.0</td>\n",
       "      <td>0.0</td>\n",
       "      <td>0.0</td>\n",
       "      <td>0.0</td>\n",
       "      <td>0.0</td>\n",
       "      <td>0.0</td>\n",
       "      <td>1.0</td>\n",
       "      <td>0.0</td>\n",
       "      <td>0.0</td>\n",
       "      <td>0.0</td>\n",
       "      <td>0.0</td>\n",
       "      <td>0.0</td>\n",
       "      <td>0.0</td>\n",
       "      <td>0.0</td>\n",
       "      <td>23000.0</td>\n",
       "      <td>0.0</td>\n",
       "      <td>0.0</td>\n",
       "      <td>0.0</td>\n",
       "      <td>0.0</td>\n",
       "      <td>1.0</td>\n",
       "      <td>1.0</td>\n",
       "      <td>1.0</td>\n",
       "      <td>0.0</td>\n",
       "      <td>0.0</td>\n",
       "      <td>0.0</td>\n",
       "      <td>0.0</td>\n",
       "      <td>0.0</td>\n",
       "      <td>45813.841071</td>\n",
       "      <td>55000.0</td>\n",
       "      <td>31700.0</td>\n",
       "      <td>0.0</td>\n",
       "      <td>12400.0</td>\n",
       "      <td>8750.0</td>\n",
       "      <td>3650.0</td>\n",
       "      <td>0.0</td>\n",
       "      <td>1.0</td>\n",
       "      <td>1.0</td>\n",
       "      <td>0.0</td>\n",
       "      <td>0.0</td>\n",
       "      <td>0.0</td>\n",
       "      <td>0.0</td>\n",
       "      <td>0.0</td>\n",
       "      <td>34901.816406</td>\n",
       "      <td>0.0</td>\n",
       "      <td>74634.078125</td>\n",
       "      <td>NaN</td>\n",
       "      <td>NaN</td>\n",
       "      <td>0.0</td>\n",
       "      <td>1.0</td>\n",
       "      <td>1.0</td>\n",
       "      <td>0.0</td>\n",
       "      <td>0.0</td>\n",
       "      <td>0.0</td>\n",
       "      <td>0.0</td>\n",
       "      <td>0.0</td>\n",
       "      <td>0.0</td>\n",
       "      <td>0.0</td>\n",
       "      <td>70.0</td>\n",
       "      <td>70.0</td>\n",
       "      <td>0.0</td>\n",
       "      <td>70.0</td>\n",
       "      <td>0.0</td>\n",
       "      <td>70.0</td>\n",
       "      <td>NaN</td>\n",
       "      <td>NaN</td>\n",
       "      <td>NaN</td>\n",
       "      <td>63.0</td>\n",
       "      <td>63.0</td>\n",
       "      <td>0.0</td>\n",
       "      <td>63.0</td>\n",
       "      <td>0.0</td>\n",
       "      <td>63.0</td>\n",
       "      <td>NaN</td>\n",
       "      <td>NaN</td>\n",
       "      <td>NaN</td>\n",
       "      <td>5313.333496</td>\n",
       "      <td>NaN</td>\n",
       "      <td>NaN</td>\n",
       "      <td>200.000000</td>\n",
       "      <td>900.000000</td>\n",
       "      <td>800.0</td>\n",
       "      <td>0.0</td>\n",
       "      <td>2225.0</td>\n",
       "      <td>982.131897</td>\n",
       "      <td>NaN</td>\n",
       "      <td>NaN</td>\n",
       "      <td>411.275421</td>\n",
       "      <td>36.968578</td>\n",
       "      <td>166.358597</td>\n",
       "      <td>0.000000</td>\n",
       "      <td>12.322859</td>\n",
       "      <td>2.646117</td>\n",
       "      <td>6607.466797</td>\n",
       "      <td>104.122368</td>\n",
       "      <td>6503.344727</td>\n",
       "      <td>180.478775</td>\n",
       "      <td>2734.947510</td>\n",
       "      <td>4581.384107</td>\n",
       "      <td>0.000000</td>\n",
       "      <td>2793.0</td>\n",
       "      <td>1221.343262</td>\n",
       "      <td>19.246279</td>\n",
       "      <td>1202.097046</td>\n",
       "      <td>516.266174</td>\n",
       "      <td>33.360218</td>\n",
       "      <td>505.535583</td>\n",
       "      <td>0.000000</td>\n",
       "      <td>70.569687</td>\n",
       "      <td>3.442511</td>\n",
       "      <td>NaN</td>\n",
       "      <td>1.0</td>\n",
       "      <td>NaN</td>\n",
       "      <td>0.0</td>\n",
       "      <td>NaN</td>\n",
       "      <td>NaN</td>\n",
       "      <td>0.0</td>\n",
       "      <td>NaN</td>\n",
       "      <td>1.0</td>\n",
       "      <td>NaN</td>\n",
       "      <td>0.0</td>\n",
       "      <td>NaN</td>\n",
       "      <td>NaN</td>\n",
       "      <td>-0.379999</td>\n",
       "      <td>0.0</td>\n",
       "      <td>-0.269281</td>\n",
       "      <td>0.183239</td>\n",
       "      <td>NaN</td>\n",
       "      <td>-0.245753</td>\n",
       "      <td>-0.019456</td>\n",
       "      <td>-0.211210</td>\n",
       "      <td>-0.170317</td>\n",
       "      <td>-0.264876</td>\n",
       "      <td>0.557702</td>\n",
       "      <td>0.591963</td>\n",
       "      <td>-0.462810</td>\n",
       "      <td>-0.018662</td>\n",
       "      <td>-0.169452</td>\n",
       "      <td>-0.365327</td>\n",
       "      <td>0.360311</td>\n",
       "      <td>-0.138688</td>\n",
       "    </tr>\n",
       "  </tbody>\n",
       "</table>\n",
       "</div>"
      ],
      "text/plain": [
       "   treatment  area_id         w        w1        w2  sample1  sample2  \\\n",
       "0        1.0      1.0  0.819672  0.777092  0.819672      1.0      1.0   \n",
       "1        1.0      1.0  1.000000  1.000000  1.000000      1.0      1.0   \n",
       "2        1.0      1.0  1.000000  1.000000  1.000000      1.0      1.0   \n",
       "3        1.0      1.0  1.000000  1.000000  1.000000      1.0      1.0   \n",
       "4        1.0      1.0  1.000000  1.000000  1.000000      1.0      1.0   \n",
       "\n",
       "   old_biz  any_old_biz  area_pop_base  area_debt_total_base  \\\n",
       "0      0.0          0.0          272.0               81050.0   \n",
       "1      0.0          0.0          272.0               81050.0   \n",
       "2      1.0          1.0          272.0               81050.0   \n",
       "3      1.0          1.0          272.0               81050.0   \n",
       "4      1.0          1.0          272.0               81050.0   \n",
       "\n",
       "   area_business_total_base  area_exp_pc_mean_base  area_literate_head_base  \\\n",
       "0                      11.0            1334.766113                      0.5   \n",
       "1                      11.0            1334.766113                      0.5   \n",
       "2                      11.0            1334.766113                      0.5   \n",
       "3                      11.0            1334.766113                      0.5   \n",
       "4                      11.0            1334.766113                      0.5   \n",
       "\n",
       "   area_literate_base  visitday_1  visitmonth_1  visityear_1  visitday_2  \\\n",
       "0            0.533898        22.0           8.0       2007.0        16.0   \n",
       "1            0.533898        22.0           8.0       2007.0        16.0   \n",
       "2            0.533898        23.0           8.0       2007.0        16.0   \n",
       "3            0.533898        22.0           8.0       2007.0        16.0   \n",
       "4            0.533898        22.0           8.0       2007.0        17.0   \n",
       "\n",
       "   visitmonth_2  visityear_2  hhsize_1  hhsize_adj_1  adults_1  children_1  \\\n",
       "0          12.0       2009.0       3.0          2.80       3.0         0.0   \n",
       "1          12.0       2009.0       4.0          3.24       2.0         2.0   \n",
       "2          12.0       2009.0       5.0          4.18       2.0         3.0   \n",
       "3          12.0       2009.0       5.0          4.03       2.0         3.0   \n",
       "4          12.0       2009.0       6.0          5.41       4.0         2.0   \n",
       "\n",
       "   male_head_1  head_age_1  head_noeduc_1  women1845_1  anychild1318_1  \\\n",
       "0          1.0        20.0            1.0          2.0             0.0   \n",
       "1          1.0        34.0            0.0          1.0             0.0   \n",
       "2          1.0        40.0            0.0          1.0             1.0   \n",
       "3          1.0        37.0            0.0          1.0             1.0   \n",
       "4          1.0        32.0            0.0          1.0             1.0   \n",
       "\n",
       "   hhsize_2  hhsize_adj_2  adults_2  children_2  male_head_2  head_age_2  \\\n",
       "0       3.0          2.42       2.0         1.0          1.0        32.0   \n",
       "1       4.0          3.51       2.0         2.0          1.0        37.0   \n",
       "2       6.0          5.35       3.0         3.0          1.0        40.0   \n",
       "3       7.0          6.08       4.0         3.0          1.0        40.0   \n",
       "4       6.0          5.41       4.0         2.0          1.0        35.0   \n",
       "\n",
       "   head_noeduc_2  women1845_2  anychild1318_2  spouse_literate_1  \\\n",
       "0            0.0          1.0             0.0                1.0   \n",
       "1            0.0          1.0             1.0                1.0   \n",
       "2            0.0          1.0             1.0                1.0   \n",
       "3            0.0          1.0             1.0                0.0   \n",
       "4            0.0          1.0             1.0                1.0   \n",
       "\n",
       "   spouse_works_wage_1  ownland_hyderabad_1  ownland_village_1  \\\n",
       "0                  0.0                  0.0                0.0   \n",
       "1                  1.0                  0.0                0.0   \n",
       "2                  0.0                  0.0                1.0   \n",
       "3                  1.0                  0.0                0.0   \n",
       "4                  0.0                  0.0                1.0   \n",
       "\n",
       "   spouse_literate_2  spouse_works_wage_2  ownland_hyderabad_2  \\\n",
       "0                1.0                  0.0                  0.0   \n",
       "1                1.0                  1.0                  0.0   \n",
       "2                1.0                  0.0                  0.0   \n",
       "3                1.0                  0.0                  0.0   \n",
       "4                1.0                  0.0                  0.0   \n",
       "\n",
       "   ownland_village_2  spandana_1  othermfi_1  anymfi_1  anybank_1  \\\n",
       "0                0.0         1.0         0.0       1.0        0.0   \n",
       "1                0.0         0.0         0.0       0.0        0.0   \n",
       "2                0.0         0.0         0.0       0.0        0.0   \n",
       "3                0.0         0.0         0.0       0.0        0.0   \n",
       "4                0.0         0.0         0.0       0.0        0.0   \n",
       "\n",
       "   anyinformal_1  anyloan_1  everlate_1  mfi_loan_cycles_1  spandana_amt_1  \\\n",
       "0            1.0        1.0         1.0                1.0         18000.0   \n",
       "1            0.0        0.0         0.0                0.0             0.0   \n",
       "2            1.0        0.0         1.0                0.0             0.0   \n",
       "3            1.0        1.0         1.0                0.0             0.0   \n",
       "4            0.0        1.0         0.0                0.0             0.0   \n",
       "\n",
       "   othermfi_amt_1  anymfi_amt_1  bank_amt_1  informal_amt_1  anyloan_amt_1  \\\n",
       "0             0.0       18000.0         0.0         93540.0       115780.0   \n",
       "1             0.0           0.0         0.0             0.0            0.0   \n",
       "2             0.0           0.0         0.0         60000.0            0.0   \n",
       "3             0.0           0.0         0.0         60000.0        51700.0   \n",
       "4             0.0           0.0         0.0             0.0        23000.0   \n",
       "\n",
       "   spandana_2  othermfi_2  anymfi_2  anybank_2  anyinformal_2  anyloan_2  \\\n",
       "0         0.0         0.0       0.0        0.0            0.0        1.0   \n",
       "1         0.0         0.0       0.0        0.0            0.0        1.0   \n",
       "2         0.0         0.0       0.0        0.0            0.0        1.0   \n",
       "3         0.0         0.0       0.0        0.0            1.0        1.0   \n",
       "4         0.0         0.0       0.0        0.0            1.0        1.0   \n",
       "\n",
       "   everlate_2  mfi_loan_cycles_2  spandana_amt_2  othermfi_amt_2  \\\n",
       "0         1.0                NaN             0.0             0.0   \n",
       "1         0.0                0.0             0.0             0.0   \n",
       "2         1.0                0.0             0.0             0.0   \n",
       "3         1.0                0.0             0.0             0.0   \n",
       "4         1.0                0.0             0.0             0.0   \n",
       "\n",
       "   anymfi_amt_2  bank_amt_2  informal_amt_2  anyloan_amt_2  bizassets_1  \\\n",
       "0           0.0         0.0        0.000000        11000.0          0.0   \n",
       "1           0.0         0.0        0.000000        25000.0          0.0   \n",
       "2           0.0         0.0        0.000000         5000.0       2000.0   \n",
       "3           0.0         0.0   462303.305354       565000.0          0.0   \n",
       "4           0.0         0.0    45813.841071        55000.0      31700.0   \n",
       "\n",
       "   bizinvestment_1  bizrev_1  bizexpense_1  bizprofit_1  bizemployees_1  \\\n",
       "0              0.0       0.0           0.0          0.0             0.0   \n",
       "1              0.0       0.0           0.0          0.0             0.0   \n",
       "2              0.0    1800.0         205.0       1595.0             0.0   \n",
       "3              0.0    5000.0         205.0       4795.0             0.0   \n",
       "4              0.0   12400.0        8750.0       3650.0             0.0   \n",
       "\n",
       "   any_biz_1  total_biz_1  any_new_biz_1  biz_stop_1  newbiz_1  female_biz_1  \\\n",
       "0        0.0          0.0            0.0         0.0       0.0           0.0   \n",
       "1        0.0          0.0            0.0         0.0       0.0           0.0   \n",
       "2        1.0          1.0            0.0         0.0       0.0           0.0   \n",
       "3        1.0          1.0            0.0         0.0       0.0           0.0   \n",
       "4        1.0          1.0            0.0         0.0       0.0           0.0   \n",
       "\n",
       "   female_biz_new_1   bizassets_2  bizinvestment_2      bizrev_2  \\\n",
       "0               0.0      0.000000              0.0      0.000000   \n",
       "1               0.0      0.000000              0.0      0.000000   \n",
       "2               0.0      0.000000              0.0   2498.936768   \n",
       "3               0.0   2915.426270              0.0   2498.936768   \n",
       "4               0.0  34901.816406              0.0  74634.078125   \n",
       "\n",
       "   bizexpense_2  bizprofit_2  bizemployees_2  any_biz_2  total_biz_2  \\\n",
       "0      0.000000     0.000000             0.0        0.0          0.0   \n",
       "1      0.000000     0.000000             0.0        0.0          0.0   \n",
       "2    449.808624  2049.128174             0.0        1.0          1.0   \n",
       "3    416.489471  2082.447266             1.0        1.0          1.0   \n",
       "4           NaN          NaN             0.0        1.0          1.0   \n",
       "\n",
       "   any_new_biz_2  biz_stop_2  newbiz_2  female_biz_2  female_biz_new_2  \\\n",
       "0            0.0         0.0       0.0           0.0               0.0   \n",
       "1            0.0         0.0       0.0           0.0               0.0   \n",
       "2            0.0         0.0       0.0           0.0               0.0   \n",
       "3            0.0         0.0       0.0           1.0               0.0   \n",
       "4            0.0         0.0       0.0           0.0               0.0   \n",
       "\n",
       "   wages_nonbiz_1  wages_nonbiz_2  hours_week_1  hours_week_biz_1  \\\n",
       "0          2000.0          7000.0          48.0               0.0   \n",
       "1          3900.0          4000.0           8.0               0.0   \n",
       "2          5000.0             0.0          21.0              21.0   \n",
       "3          1500.0             0.0          77.0              77.0   \n",
       "4             0.0             0.0          70.0              70.0   \n",
       "\n",
       "   hours_week_outside_1  hours_headspouse_week_1  hours_headspouse_outside_1  \\\n",
       "0                  48.0                     48.0                        48.0   \n",
       "1                   8.0                      8.0                         4.0   \n",
       "2                   0.0                     49.0                         0.0   \n",
       "3                   0.0                     77.0                        63.0   \n",
       "4                   0.0                     70.0                         0.0   \n",
       "\n",
       "   hours_headspouse_biz_1  hours_child1620_week_1  hours_girl1620_week_1  \\\n",
       "0                     0.0                    48.0                    0.0   \n",
       "1                     4.0                     NaN                    NaN   \n",
       "2                    49.0                     NaN                    NaN   \n",
       "3                    14.0                     NaN                    NaN   \n",
       "4                    70.0                     NaN                    NaN   \n",
       "\n",
       "   hours_boy1620_week_1  hours_week_2  hours_week_biz_2  hours_week_outside_2  \\\n",
       "0                  48.0          84.0               0.0                  84.0   \n",
       "1                   NaN         126.0               0.0                 126.0   \n",
       "2                   NaN          36.0              36.0                   0.0   \n",
       "3                   NaN          84.0              84.0                   0.0   \n",
       "4                   NaN          63.0              63.0                   0.0   \n",
       "\n",
       "   hours_headspouse_week_2  hours_headspouse_outside_2  \\\n",
       "0                     84.0                        84.0   \n",
       "1                    126.0                       126.0   \n",
       "2                     36.0                         0.0   \n",
       "3                     84.0                         0.0   \n",
       "4                     63.0                         0.0   \n",
       "\n",
       "   hours_headspouse_biz_2  hours_child1620_week_2  hours_girl1620_week_2  \\\n",
       "0                     0.0                     NaN                    NaN   \n",
       "1                     0.0                     NaN                    NaN   \n",
       "2                    36.0                     NaN                    NaN   \n",
       "3                    84.0                     NaN                    NaN   \n",
       "4                    63.0                     NaN                    NaN   \n",
       "\n",
       "   hours_boy1620_week_2  total_exp_mo_1  durables_exp_mo_1  \\\n",
       "0                   NaN     2154.000000                NaN   \n",
       "1                   NaN     4442.500000          29.166666   \n",
       "2                   NaN     5207.833496         212.500000   \n",
       "3                   NaN     4566.500000         154.166672   \n",
       "4                   NaN     5313.333496                NaN   \n",
       "\n",
       "   nondurable_exp_mo_1  health_exp_mo_1  educ_exp_mo_1  festival_exp_annual_1  \\\n",
       "0                  NaN       250.000000            NaN                  600.0   \n",
       "1          4413.333496       183.333328     825.000000                 3300.0   \n",
       "2          4995.333496       200.000000     976.666687                 2000.0   \n",
       "3          4412.333008         0.000000     966.666687                 4000.0   \n",
       "4                  NaN       200.000000     900.000000                  800.0   \n",
       "\n",
       "   temptation_exp_mo_1  food_exp_mo_1  total_exp_mo_pc_1  \\\n",
       "0                170.0         1084.0         769.285706   \n",
       "1                  0.0         2175.0        1371.141968   \n",
       "2                100.0         2510.0        1245.893188   \n",
       "3                  0.0         2519.0        1133.126465   \n",
       "4                  0.0         2225.0         982.131897   \n",
       "\n",
       "   durables_exp_mo_pc_1  nondurable_exp_mo_pc_1  food_exp_mo_pc_1  \\\n",
       "0                   NaN                     NaN        387.142853   \n",
       "1              9.002058             1362.139893        671.296265   \n",
       "2             50.837322             1195.055908        600.478516   \n",
       "3             38.254753             1094.871704        625.062012   \n",
       "4                   NaN                     NaN        411.275421   \n",
       "\n",
       "   health_exp_mo_pc_1  educ_exp_mo_pc_1  temptation_exp_mo_pc_1  \\\n",
       "0           89.285713               NaN               60.714287   \n",
       "1           56.584362        254.629623                0.000000   \n",
       "2           47.846893        233.652328               23.923447   \n",
       "3            0.000000        239.867645                0.000000   \n",
       "4           36.968578        166.358597                0.000000   \n",
       "\n",
       "   festival_exp_mo_pc_1  home_durable_index_1  total_exp_mo_2  \\\n",
       "0             17.857143              2.693964     4128.382324   \n",
       "1             84.876541              2.199033     6835.425293   \n",
       "2             39.872410              2.455154    11836.075195   \n",
       "3             82.712982              1.304456     8740.448242   \n",
       "4             12.322859              2.646117     6607.466797   \n",
       "\n",
       "   durables_exp_mo_2  nondurable_exp_mo_2  health_exp_mo_2  educ_exp_mo_2  \\\n",
       "0         138.829819          3989.552734        63.167572     763.564026   \n",
       "1         793.412415          6042.012695        20.824472    2235.160156   \n",
       "2        1291.117310         10544.958008       388.723480    1499.362061   \n",
       "3         347.074554          8393.373047       513.670349    2429.521973   \n",
       "4         104.122368          6503.344727       180.478775    2734.947510   \n",
       "\n",
       "   festival_exp_annual_2  temptation_exp_mo_2  food_exp_mo_2  \\\n",
       "0            1665.957857             0.000000         2372.0   \n",
       "1            3373.564661           533.106506         2344.0   \n",
       "2            8329.789286             0.000000         5892.0   \n",
       "3            6663.831429             0.000000         4368.0   \n",
       "4            4581.384107             0.000000         2793.0   \n",
       "\n",
       "   total_exp_mo_pc_2  durables_exp_mo_pc_2  nondurable_exp_mo_pc_2  \\\n",
       "0        1705.943115             57.367695             1648.575439   \n",
       "1        1947.414673            226.043427             1721.371094   \n",
       "2        2212.350586            241.330353             1971.020142   \n",
       "3        1437.573730             57.084629             1380.489014   \n",
       "4        1221.343262             19.246279             1202.097046   \n",
       "\n",
       "   food_exp_mo_pc_2  health_exp_mo_pc_2  educ_exp_mo_pc_2  \\\n",
       "0        980.165283           26.102303        315.522308   \n",
       "1        667.806274            5.932898        636.797791   \n",
       "2       1101.308472           72.658592        280.254608   \n",
       "3        718.421082           84.485252        399.592438   \n",
       "4        516.266174           33.360218        505.535583   \n",
       "\n",
       "   temptation_exp_mo_pc_2  festival_exp_mo_pc_2  home_durable_index_2  \\\n",
       "0                0.000000             57.367695              2.677674   \n",
       "1              151.882202             80.094131              3.608803   \n",
       "2                0.000000            129.747498              3.363560   \n",
       "3                0.000000             91.335411              1.915378   \n",
       "4                0.000000             70.569687              3.442511   \n",
       "\n",
       "   girl515_school_1  boy515_school_1  girl515_workhrs_pc_1  \\\n",
       "0               NaN              NaN                   NaN   \n",
       "1               1.0              1.0                   0.0   \n",
       "2               NaN              1.0                   NaN   \n",
       "3               1.0              1.0                   0.0   \n",
       "4               NaN              1.0                   NaN   \n",
       "\n",
       "   boy515_workhrs_pc_1  girl1620_school_1  boy1620_school_1  female_biz_pct_1  \\\n",
       "0                  NaN                0.0               1.0               NaN   \n",
       "1                  0.0                NaN               NaN               NaN   \n",
       "2                  0.0                NaN               NaN               0.0   \n",
       "3                  0.0                NaN               NaN               0.0   \n",
       "4                  0.0                NaN               NaN               0.0   \n",
       "\n",
       "   girl515_school_2  boy515_school_2  girl515_workhrs_pc_2  \\\n",
       "0               1.0              NaN                   0.0   \n",
       "1               1.0              1.0                   0.0   \n",
       "2               NaN              1.0                   NaN   \n",
       "3               1.0              1.0                   0.0   \n",
       "4               NaN              1.0                   NaN   \n",
       "\n",
       "   boy515_workhrs_pc_2  girl1620_school_2  boy1620_school_2  \\\n",
       "0                  NaN                NaN               NaN   \n",
       "1                  0.0                NaN               NaN   \n",
       "2                  0.0                NaN               NaN   \n",
       "3                  0.0                NaN               NaN   \n",
       "4                  0.0                NaN               NaN   \n",
       "\n",
       "   women_emp_index_2  female_biz_pct_2  credit_index_1  biz_index_old_1  \\\n",
       "0          -0.428467               NaN        1.135847              NaN   \n",
       "1          -0.382995               NaN       -0.492113              NaN   \n",
       "2          -0.405859               0.0       -0.416555        -0.197126   \n",
       "3          -0.374414               1.0       -0.178390        -0.162268   \n",
       "4          -0.379999               0.0       -0.269281         0.183239   \n",
       "\n",
       "   biz_index_new_1  income_index_1  labor_index_1  consumption_index_1  \\\n",
       "0              NaN       -0.160999      -0.104168            -0.166209   \n",
       "1              NaN        0.081633      -0.632081            -0.029637   \n",
       "2              NaN        0.296675      -0.327149            -0.087983   \n",
       "3              NaN       -0.000669       0.050992            -0.239553   \n",
       "4              NaN       -0.245753      -0.019456            -0.211210   \n",
       "\n",
       "   social_index_1  credit_index_2  biz_index_all_2  biz_index_old_2  \\\n",
       "0       -0.078313       -0.420189        -0.319804              NaN   \n",
       "1        0.201462       -0.322687        -0.319804              NaN   \n",
       "2       -0.096513       -0.478224        -0.015660        -0.268047   \n",
       "3       -0.118175        0.374835         0.044704        -0.181571   \n",
       "4       -0.170317       -0.264876         0.557702         0.591963   \n",
       "\n",
       "   income_index_2  labor_index_2  consumption_index_2  women_emp_index_1  \\\n",
       "0        0.089781       0.220555            -0.156785          -0.415386   \n",
       "1       -0.176772       0.665412             0.199052           0.562864   \n",
       "2       -0.441344      -0.297447             0.159275          -0.062284   \n",
       "3       -0.439867       0.198170            -0.290614          -0.368029   \n",
       "4       -0.462810      -0.018662            -0.169452          -0.365327   \n",
       "\n",
       "   biz_index_all_1  social_index_2  \n",
       "0        -0.223974       -0.058573  \n",
       "1        -0.223974       -0.009926  \n",
       "2         0.065113       -0.144019  \n",
       "3         0.082673        0.147882  \n",
       "4         0.360311       -0.138688  "
      ]
     },
     "metadata": {},
     "output_type": "display_data"
    },
    {
     "data": {
      "text/plain": [
       "(6863, 186)"
      ]
     },
     "execution_count": 14,
     "metadata": {},
     "output_type": "execute_result"
    }
   ],
   "source": [
    "# The full mostly unformatted dataset is loaded\n",
    "data_raw = cmf_micro.load_cmf_micro(user_file_path=\"datasets/cmf_micro\",\n",
    "                                     format_covariates=False, \n",
    "                                     normalize=False)\n",
    "\n",
    "df_full = pd.DataFrame(data_raw[\"dataset_full\"], \n",
    "                       columns=data_raw[\"dataset_full_names\"])\n",
    "\n",
    "display(df_full.head())\n",
    "df_full.shape"
   ]
  },
  {
   "cell_type": "markdown",
   "metadata": {},
   "source": [
    "## Modeling Data"
   ]
  },
  {
   "cell_type": "code",
   "execution_count": 15,
   "metadata": {
    "ExecuteTime": {
     "end_time": "2020-02-02T18:26:22.773207Z",
     "start_time": "2020-02-02T18:26:22.059499Z"
    }
   },
   "outputs": [],
   "source": [
    "# The formatted dataset is loaded\n",
    "data_cmf_micro = cmf_micro.load_cmf_micro(user_file_path=\"datasets/cmf_micro\",\n",
    "                                          format_covariates=True, \n",
    "                                          normalize=True)\n",
    "\n",
    "df = pd.DataFrame(data_cmf_micro[\"dataset_full\"], \n",
    "                  columns=data_cmf_micro[\"dataset_full_names\"])"
   ]
  },
  {
   "cell_type": "code",
   "execution_count": 16,
   "metadata": {
    "ExecuteTime": {
     "end_time": "2020-02-02T18:26:25.131152Z",
     "start_time": "2020-02-02T18:26:25.125249Z"
    }
   },
   "outputs": [],
   "source": [
    "# Covariates, treatments and responses are loaded separately\n",
    "X = data_cmf_micro[\"features\"]\n",
    "\n",
    "y = data_cmf_micro[\"response_biz_index\"] # response_biz_index or response_women_emp\n",
    "\n",
    "w = data_cmf_micro[\"treatment\"]"
   ]
  },
  {
   "cell_type": "markdown",
   "metadata": {},
   "source": [
    "# Data Exploration"
   ]
  },
  {
   "cell_type": "code",
   "execution_count": 17,
   "metadata": {
    "ExecuteTime": {
     "end_time": "2020-02-02T18:26:27.561555Z",
     "start_time": "2020-02-02T18:26:27.557614Z"
    }
   },
   "outputs": [],
   "source": [
    "sns.set(style=\"whitegrid\")"
   ]
  },
  {
   "cell_type": "markdown",
   "metadata": {},
   "source": [
    "## Full Data Visualization"
   ]
  },
  {
   "cell_type": "code",
   "execution_count": 19,
   "metadata": {
    "ExecuteTime": {
     "end_time": "2020-02-02T18:28:54.858860Z",
     "start_time": "2020-02-02T18:28:54.492717Z"
    }
   },
   "outputs": [
    {
     "data": {
      "image/png": "[encoded data removed]",
      "text/plain": [
       "<Figure size 1440x360 with 2 Axes>"
      ]
     },
     "metadata": {},
     "output_type": "display_data"
    }
   ],
   "source": [
    "fig, (ax1, ax2) = plt.subplots(nrows=1, ncols=2, sharey=True, figsize=(20,5))\n",
    "\n",
    "plot_unit_distributions(df=df_full, variable='children_1', treatment = None,\n",
    "                        plot_x_label='children_1', plot_y_label='counts', plot_title='Breakdown of children_1', \n",
    "                        bins=None, figsize=None, fontsize=20, axis=ax1),\n",
    "\n",
    "plot_unit_distributions(df=df_full, variable='children_1', treatment = 'treatment',\n",
    "                        plot_x_label='children_1', plot_y_label='counts', plot_title='Breakdown of children_1 and Treatment', \n",
    "                        bins=None, figsize=None, fontsize=20, axis=ax2)"
   ]
  },
  {
   "cell_type": "code",
   "execution_count": 28,
   "metadata": {
    "ExecuteTime": {
     "end_time": "2020-02-02T18:35:13.023249Z",
     "start_time": "2020-02-02T18:35:12.414860Z"
    }
   },
   "outputs": [
    {
     "data": {
      "image/png": "[encoded data removed]",
      "text/plain": [
       "<Figure size 1440x360 with 2 Axes>"
      ]
     },
     "metadata": {},
     "output_type": "display_data"
    }
   ],
   "source": [
    "fig, (ax1, ax2) = plt.subplots(nrows=1, ncols=2, sharey=True, figsize=(20,5))\n",
    "\n",
    "plot_unit_distributions(df=df_full, variable='hhsize_1', treatment = None,\n",
    "                        plot_x_label='hhsize_1', plot_y_label='counts', plot_title='Breakdown of hhsize_1', \n",
    "                        bins=None, figsize=None, fontsize=20, axis=ax1),\n",
    "\n",
    "plot_unit_distributions(df=df_full, variable='hhsize_1', treatment = 'treatment',\n",
    "                        plot_x_label='hhsize_1', plot_y_label='counts', plot_title='Breakdown of hhsize_1 and Treatment', \n",
    "                        bins=None, figsize=None, fontsize=20, axis=ax2)"
   ]
  },
  {
   "cell_type": "code",
   "execution_count": 25,
   "metadata": {
    "ExecuteTime": {
     "end_time": "2020-02-02T18:32:56.710939Z",
     "start_time": "2020-02-02T18:32:56.465472Z"
    }
   },
   "outputs": [
    {
     "data": {
      "image/png": "[encoded data removed]",
      "text/plain": [
       "<Figure size 1440x360 with 2 Axes>"
      ]
     },
     "metadata": {},
     "output_type": "display_data"
    }
   ],
   "source": [
    "fig, (ax1, ax2) = plt.subplots(nrows=1, ncols=2, sharey=True, figsize=(20,5))\n",
    "\n",
    "plot_unit_distributions(df=df_full, variable='anyloan_1', treatment = None,\n",
    "                        plot_x_label='anyloan_1', plot_y_label='counts', plot_title='Breakdown of anyloan_1', \n",
    "                        bins=None, figsize=None, fontsize=20, axis=ax1),\n",
    "\n",
    "plot_unit_distributions(df=df_full, variable='anyloan_1', treatment = 'treatment',\n",
    "                        plot_x_label='anyloan_1', plot_y_label='counts', plot_title='Breakdown of anyloan_1 and Treatment', \n",
    "                        bins=None, figsize=None, fontsize=20, axis=ax2)"
   ]
  },
  {
   "cell_type": "code",
   "execution_count": 27,
   "metadata": {
    "ExecuteTime": {
     "end_time": "2020-02-02T18:34:17.519068Z",
     "start_time": "2020-02-02T18:34:17.273413Z"
    }
   },
   "outputs": [
    {
     "data": {
      "image/png": "[encoded data removed]",
      "text/plain": [
       "<Figure size 1440x360 with 2 Axes>"
      ]
     },
     "metadata": {},
     "output_type": "display_data"
    }
   ],
   "source": [
    "fig, (ax1, ax2) = plt.subplots(nrows=1, ncols=2, sharey=True, figsize=(20,5))\n",
    "\n",
    "plot_unit_distributions(df=df_full, variable='spouse_works_wage_1', treatment = None,\n",
    "                        plot_x_label='spouse_works_wage_1', plot_y_label='counts', plot_title='Breakdown of spouse_works_wage_1', \n",
    "                        bins=None, figsize=None, fontsize=15, axis=ax1),\n",
    "\n",
    "plot_unit_distributions(df=df_full, variable='spouse_works_wage_1', treatment = 'treatment',\n",
    "                        plot_x_label='spouse_works_wage_1', plot_y_label='counts', plot_title='Breakdown of spouse_works_wage_1 and Treatment', \n",
    "                        bins=None, figsize=None, fontsize=15, axis=ax2)"
   ]
  },
  {
   "cell_type": "markdown",
   "metadata": {},
   "source": [
    "Slight indication of self selection, as the women would be more likely to go for a loan if their spouse didn't work."
   ]
  },
  {
   "cell_type": "code",
   "execution_count": 31,
   "metadata": {
    "ExecuteTime": {
     "end_time": "2020-02-02T18:38:22.643261Z",
     "start_time": "2020-02-02T18:38:22.620423Z"
    }
   },
   "outputs": [
    {
     "data": {
      "text/html": [
       "<div>\n",
       "<style scoped>\n",
       "    .dataframe tbody tr th:only-of-type {\n",
       "        vertical-align: middle;\n",
       "    }\n",
       "\n",
       "    .dataframe tbody tr th {\n",
       "        vertical-align: top;\n",
       "    }\n",
       "\n",
       "    .dataframe thead tr th {\n",
       "        text-align: left;\n",
       "    }\n",
       "\n",
       "    .dataframe thead tr:last-of-type th {\n",
       "        text-align: right;\n",
       "    }\n",
       "</style>\n",
       "<table border=\"1\" class=\"dataframe\">\n",
       "  <thead>\n",
       "    <tr>\n",
       "      <th></th>\n",
       "      <th colspan=\"2\" halign=\"left\">mean</th>\n",
       "    </tr>\n",
       "    <tr>\n",
       "      <th></th>\n",
       "      <th>biz_index_all_1</th>\n",
       "      <th>women_emp_index_1</th>\n",
       "    </tr>\n",
       "    <tr>\n",
       "      <th>treatment</th>\n",
       "      <th></th>\n",
       "      <th></th>\n",
       "    </tr>\n",
       "  </thead>\n",
       "  <tbody>\n",
       "    <tr>\n",
       "      <th>0.0</th>\n",
       "      <td>0.106470</td>\n",
       "      <td>-0.007832</td>\n",
       "    </tr>\n",
       "    <tr>\n",
       "      <th>1.0</th>\n",
       "      <td>0.131328</td>\n",
       "      <td>0.004533</td>\n",
       "    </tr>\n",
       "    <tr>\n",
       "      <th>All</th>\n",
       "      <td>0.119309</td>\n",
       "      <td>-0.001445</td>\n",
       "    </tr>\n",
       "  </tbody>\n",
       "</table>\n",
       "</div>"
      ],
      "text/plain": [
       "                     mean                  \n",
       "          biz_index_all_1 women_emp_index_1\n",
       "treatment                                  \n",
       "0.0              0.106470         -0.007832\n",
       "1.0              0.131328          0.004533\n",
       "All              0.119309         -0.001445"
      ]
     },
     "execution_count": 31,
     "metadata": {},
     "output_type": "execute_result"
    }
   ],
   "source": [
    "df.pivot_table(values=['biz_index_all_1', 'women_emp_index_1'],\n",
    "               index='treatment',\n",
    "               aggfunc=[np.mean],\n",
    "               margins=True)"
   ]
  },
  {
   "cell_type": "markdown",
   "metadata": {},
   "source": [
    "## Modeling Data Preparation"
   ]
  },
  {
   "cell_type": "code",
   "execution_count": 32,
   "metadata": {
    "ExecuteTime": {
     "end_time": "2020-02-02T18:39:54.774378Z",
     "start_time": "2020-02-02T18:39:54.767028Z"
    }
   },
   "outputs": [
    {
     "name": "stdout",
     "output_type": "stream",
     "text": [
      "2576\n",
      "2752\n"
     ]
    }
   ],
   "source": [
    "# Counts for treatment\n",
    "control_indexes = [i for i, e in enumerate(w) if e == 0]\n",
    "treatment_indexes = [i for i, e in enumerate(w) if e == 1]\n",
    "\n",
    "print(len(control_indexes))\n",
    "print(len(treatment_indexes))"
   ]
  },
  {
   "cell_type": "code",
   "execution_count": 33,
   "metadata": {
    "ExecuteTime": {
     "end_time": "2020-02-02T18:39:57.993446Z",
     "start_time": "2020-02-02T18:39:57.985745Z"
    }
   },
   "outputs": [],
   "source": [
    "X_control = X[control_indexes]\n",
    "y_control = y[control_indexes]\n",
    "w_control = w[control_indexes]\n",
    "\n",
    "X_treatment = X[treatment_indexes]\n",
    "y_treatment = y[treatment_indexes]\n",
    "w_treatment = w[treatment_indexes]"
   ]
  },
  {
   "cell_type": "code",
   "execution_count": 34,
   "metadata": {
    "ExecuteTime": {
     "end_time": "2020-02-02T18:39:59.767593Z",
     "start_time": "2020-02-02T18:39:59.759281Z"
    }
   },
   "outputs": [
    {
     "name": "stdout",
     "output_type": "stream",
     "text": [
      "\n",
      "    Old Covariates shape  : (2576, 160)\n",
      "    Old responses shape   : (2576,)\n",
      "    Old treatments shape  : (2576,)\n",
      "    New covariates shape  : (2752, 160)\n",
      "    New responses shape   : (2752,)\n",
      "    New treatments shape  : (2752,)\n",
      "    Matched sample length :  2752\n",
      "                        \n"
     ]
    }
   ],
   "source": [
    "# Over-sampling of control\n",
    "X_os, y_os, w_os = over_sample(X_1=X_control, y_1=y_control, w_1=w_control, \n",
    "                               sample_2_size=len(X_treatment), shuffle=True)"
   ]
  },
  {
   "cell_type": "code",
   "execution_count": 35,
   "metadata": {
    "ExecuteTime": {
     "end_time": "2020-02-02T18:40:07.436923Z",
     "start_time": "2020-02-02T18:40:07.428302Z"
    }
   },
   "outputs": [
    {
     "data": {
      "text/plain": [
       "((5504, 160), (5504,), (5504,))"
      ]
     },
     "execution_count": 35,
     "metadata": {},
     "output_type": "execute_result"
    }
   ],
   "source": [
    "X_split = np.append(X_os, X_treatment, axis=0)\n",
    "y_split = np.append(y_os, y_treatment, axis=0)\n",
    "w_split = np.append(w_os, w_treatment, axis=0)\n",
    "\n",
    "X_split.shape, y_split.shape, w_split.shape # Should all be equal in the first dimension"
   ]
  },
  {
   "cell_type": "code",
   "execution_count": 36,
   "metadata": {
    "ExecuteTime": {
     "end_time": "2020-02-02T18:40:10.012494Z",
     "start_time": "2020-02-02T18:40:09.858376Z"
    }
   },
   "outputs": [],
   "source": [
    "X_train, X_test, y_train, y_test, w_train, w_test = train_test_split(X_split, y_split, w_split, \n",
    "                                                                     percent_train=0.7, random_state=42, \n",
    "                                                                     maintain_proportions=True)"
   ]
  },
  {
   "cell_type": "code",
   "execution_count": 37,
   "metadata": {
    "ExecuteTime": {
     "end_time": "2020-02-02T18:40:10.655718Z",
     "start_time": "2020-02-02T18:40:10.650920Z"
    }
   },
   "outputs": [
    {
     "data": {
      "text/plain": [
       "((3852, 160), (1652, 160), (3852,), (1652,), (3852,), (1652,))"
      ]
     },
     "execution_count": 37,
     "metadata": {},
     "output_type": "execute_result"
    }
   ],
   "source": [
    "X_train.shape, X_test.shape, y_train.shape, y_test.shape, w_train.shape, w_test.shape"
   ]
  },
  {
   "cell_type": "code",
   "execution_count": 38,
   "metadata": {
    "ExecuteTime": {
     "end_time": "2020-02-02T18:40:11.994437Z",
     "start_time": "2020-02-02T18:40:11.989660Z"
    }
   },
   "outputs": [
    {
     "name": "stdout",
     "output_type": "stream",
     "text": [
      "[[   0 1926]\n",
      " [   1 1926]]\n",
      "[[  0 826]\n",
      " [  1 826]]\n"
     ]
    }
   ],
   "source": [
    "print(np.array(np.unique(w_train, return_counts=True)).T)\n",
    "print(np.array(np.unique(w_test, return_counts=True)).T)"
   ]
  },
  {
   "cell_type": "code",
   "execution_count": 39,
   "metadata": {
    "ExecuteTime": {
     "end_time": "2020-02-02T18:40:14.197247Z",
     "start_time": "2020-02-02T18:40:14.152313Z"
    }
   },
   "outputs": [
    {
     "data": {
      "text/plain": [
       "0.2149301305377347"
      ]
     },
     "execution_count": 39,
     "metadata": {},
     "output_type": "execute_result"
    }
   ],
   "source": [
    "sn_ratio = signal_to_noise(y=y_split, w=w_split)\n",
    "sn_ratio"
   ]
  },
  {
   "cell_type": "markdown",
   "metadata": {},
   "source": [
    "The signal to noise ratio suggests at a base level that there is a potential benefit to using CI with this dataset."
   ]
  },
  {
   "cell_type": "markdown",
   "metadata": {},
   "source": [
    "# Standard Models"
   ]
  },
  {
   "cell_type": "markdown",
   "metadata": {},
   "source": [
    "The following cells present single iteration modeling, with analysis being done over multiple iterations."
   ]
  },
  {
   "cell_type": "markdown",
   "metadata": {},
   "source": [
    "## Two Model"
   ]
  },
  {
   "cell_type": "code",
   "execution_count": 40,
   "metadata": {
    "ExecuteTime": {
     "end_time": "2020-02-02T18:42:50.851062Z",
     "start_time": "2020-02-02T18:42:47.940856Z"
    }
   },
   "outputs": [
    {
     "data": {
      "text/plain": [
       "<causeinfer.standard_algorithms.two_model.TwoModel at 0x7fcad2152d50>"
      ]
     },
     "execution_count": 40,
     "metadata": {},
     "output_type": "execute_result"
    }
   ],
   "source": [
    "tm = TwoModel(treatment_model=RandomForestRegressor(),\n",
    "              control_model=RandomForestRegressor())\n",
    "tm.fit(X=X_train, y=y_train, w=w_train)"
   ]
  },
  {
   "cell_type": "code",
   "execution_count": 44,
   "metadata": {
    "ExecuteTime": {
     "end_time": "2020-02-02T18:45:45.013222Z",
     "start_time": "2020-02-02T18:45:44.973380Z"
    }
   },
   "outputs": [
    {
     "data": {
      "text/plain": [
       "array([[0.07676931, 0.07755674],\n",
       "       [0.15342537, 0.14812555],\n",
       "       [0.347618  , 0.3773406 ],\n",
       "       [1.29697517, 1.21813387],\n",
       "       [0.        , 0.        ]])"
      ]
     },
     "execution_count": 44,
     "metadata": {},
     "output_type": "execute_result"
    }
   ],
   "source": [
    "tm_preds = tm.predict(X=X_test)\n",
    "tm_preds[:5]"
   ]
  },
  {
   "cell_type": "markdown",
   "metadata": {},
   "source": [
    "## Interaction Term"
   ]
  },
  {
   "cell_type": "code",
   "execution_count": 45,
   "metadata": {
    "ExecuteTime": {
     "end_time": "2020-02-02T18:45:54.592492Z",
     "start_time": "2020-02-02T18:45:48.777768Z"
    }
   },
   "outputs": [
    {
     "data": {
      "text/plain": [
       "<causeinfer.standard_algorithms.interaction_term.InteractionTerm at 0x7fcb30eb0750>"
      ]
     },
     "execution_count": 45,
     "metadata": {},
     "output_type": "execute_result"
    }
   ],
   "source": [
    "it = InteractionTerm(model=RandomForestRegressor())\n",
    "it.fit(X=X_train, y=y_train, w=w_train)"
   ]
  },
  {
   "cell_type": "code",
   "execution_count": 46,
   "metadata": {
    "ExecuteTime": {
     "end_time": "2020-02-02T18:45:54.638934Z",
     "start_time": "2020-02-02T18:45:54.594707Z"
    }
   },
   "outputs": [
    {
     "data": {
      "text/plain": [
       "array([[0.07033577, 0.07257062],\n",
       "       [0.15213514, 0.16819402],\n",
       "       [0.37399592, 0.37578294],\n",
       "       [1.35834111, 1.35721302],\n",
       "       [0.        , 0.        ]])"
      ]
     },
     "execution_count": 46,
     "metadata": {},
     "output_type": "execute_result"
    }
   ],
   "source": [
    "it_preds = it.predict(X=X_test)\n",
    "it_preds[:5]"
   ]
  },
  {
   "cell_type": "markdown",
   "metadata": {},
   "source": [
    "## Class Transformations"
   ]
  },
  {
   "cell_type": "markdown",
   "metadata": {},
   "source": [
    "Class transformation approaches aren't available for continuous response values yet. Work will be done to modify those algorithms to make them applicable in these settings."
   ]
  },
  {
   "cell_type": "markdown",
   "metadata": {},
   "source": [
    "# Evaluation"
   ]
  },
  {
   "cell_type": "markdown",
   "metadata": {},
   "source": [
    "## Iterations"
   ]
  },
  {
   "cell_type": "code",
   "execution_count": 55,
   "metadata": {
    "ExecuteTime": {
     "end_time": "2020-02-02T20:04:01.955643Z",
     "start_time": "2020-02-02T20:04:01.951001Z"
    }
   },
   "outputs": [
    {
     "data": {
      "text/plain": [
       "5504"
      ]
     },
     "execution_count": 55,
     "metadata": {},
     "output_type": "execute_result"
    }
   ],
   "source": [
    "# For choosing the number of trees B at the order of N\n",
    "num_trees = X_split.shape[0]\n",
    "num_trees"
   ]
  },
  {
   "cell_type": "code",
   "execution_count": 56,
   "metadata": {
    "ExecuteTime": {
     "end_time": "2020-02-02T20:04:02.079429Z",
     "start_time": "2020-02-02T20:04:02.075898Z"
    }
   },
   "outputs": [],
   "source": [
    "# New models istatiated with a more expansive scikit-learn base model\n",
    "base_regression_model = RandomForestRegressor(n_estimators=200, \n",
    "                                              criterion='mse', \n",
    "                                              bootstrap=True)\n",
    "\n",
    "tm = TwoModel(treatment_model=base_regression_model,\n",
    "              control_model=base_regression_model)\n",
    "it = InteractionTerm(model=base_regression_model)"
   ]
  },
  {
   "cell_type": "code",
   "execution_count": 57,
   "metadata": {
    "ExecuteTime": {
     "end_time": "2020-02-02T20:04:02.445157Z",
     "start_time": "2020-02-02T20:04:02.441671Z"
    }
   },
   "outputs": [
    {
     "data": {
      "text/plain": [
       "{'CMF Microfinance': {}}"
      ]
     },
     "execution_count": 57,
     "metadata": {},
     "output_type": "execute_result"
    }
   ],
   "source": [
    "n=10\n",
    "model_eval_dict = {}\n",
    "model_eval_dict['CMF Microfinance'] = {}\n",
    "model_eval_dict"
   ]
  },
  {
   "cell_type": "code",
   "execution_count": 59,
   "metadata": {
    "ExecuteTime": {
     "end_time": "2020-02-02T20:07:32.188208Z",
     "start_time": "2020-02-02T20:04:30.147297Z"
    }
   },
   "outputs": [
    {
     "name": "stdout",
     "output_type": "stream",
     "text": [
      "Starting TwoModel iterations\n",
      "20.0 percent of iterations have finished\n",
      "40.0 percent of iterations have finished\n",
      "60.0 percent of iterations have finished\n",
      "80.0 percent of iterations have finished\n",
      "100.0 percent of iterations have finished\n",
      "-----\n",
      "Starting InteractionTerm iterations\n",
      "20.0 percent of iterations have finished\n",
      "40.0 percent of iterations have finished\n",
      "60.0 percent of iterations have finished\n",
      "80.0 percent of iterations have finished\n",
      "100.0 percent of iterations have finished\n",
      "-----\n"
     ]
    }
   ],
   "source": [
    "for dataset in model_eval_dict.keys():\n",
    "    for model in [tm, it]: #grf\n",
    "        avg_preds, all_preds, \\\n",
    "        avg_eval, eval_variance, \\\n",
    "        eval_sd, all_evals = iterate_model(model=model, X_train=X_train, y_train=y_train, w_train=w_train,\n",
    "                                            X_test=X_test, y_test=y_test, w_test=w_test, tau_test=None, n=10,\n",
    "                                            pred_type='predict', eval_type='qini', \n",
    "                                            normalize_eval=False, notify_iter=n/10)\n",
    "        model_eval_dict[dataset].update({str(model).split('.')[-1].split(' ')[0]: {'avg_preds': avg_preds, 'all_preds': all_preds, \n",
    "                                                                                   'avg_eval': avg_eval, 'eval_variance': eval_variance,\n",
    "                                                                                   'eval_sd': eval_sd, 'all_evals': all_evals}})"
   ]
  },
  {
   "cell_type": "code",
   "execution_count": 60,
   "metadata": {
    "ExecuteTime": {
     "end_time": "2020-02-02T20:07:37.206818Z",
     "start_time": "2020-02-02T20:07:37.197596Z"
    },
    "code_folding": []
   },
   "outputs": [],
   "source": [
    "# Treatment and control prediction subtraction\n",
    "tm_effects = [model_eval_dict['CMF Microfinance']['TwoModel']['avg_preds'][i][0] \\\n",
    "              - model_eval_dict['CMF Microfinance']['TwoModel']['avg_preds'][i][1] \\\n",
    "              for i in range(len(model_eval_dict['CMF Microfinance']['TwoModel']['avg_preds']))]\n",
    "\n",
    "# Treatment interaction and control interaction prediction subtraction\n",
    "it_effects = [model_eval_dict['CMF Microfinance']['InteractionTerm']['avg_preds'][i][0] \\\n",
    "              - model_eval_dict['CMF Microfinance']['InteractionTerm']['avg_preds'][i][1] \\\n",
    "              for i in range(len(model_eval_dict['CMF Microfinance']['InteractionTerm']['avg_preds']))]"
   ]
  },
  {
   "cell_type": "markdown",
   "metadata": {},
   "source": [
    "## Visual"
   ]
  },
  {
   "cell_type": "code",
   "execution_count": 61,
   "metadata": {
    "ExecuteTime": {
     "end_time": "2020-02-02T20:07:39.005960Z",
     "start_time": "2020-02-02T20:07:39.003166Z"
    }
   },
   "outputs": [],
   "source": [
    "visual_eval_dict = {'y_test': y_test, 'w_test': w_test, \n",
    "                    'two_model': tm_effects, 'interaction_term': it_effects}"
   ]
  },
  {
   "cell_type": "code",
   "execution_count": 62,
   "metadata": {
    "ExecuteTime": {
     "end_time": "2020-02-02T20:07:39.578566Z",
     "start_time": "2020-02-02T20:07:39.565884Z"
    }
   },
   "outputs": [
    {
     "data": {
      "text/html": [
       "<div>\n",
       "<style scoped>\n",
       "    .dataframe tbody tr th:only-of-type {\n",
       "        vertical-align: middle;\n",
       "    }\n",
       "\n",
       "    .dataframe tbody tr th {\n",
       "        vertical-align: top;\n",
       "    }\n",
       "\n",
       "    .dataframe thead th {\n",
       "        text-align: right;\n",
       "    }\n",
       "</style>\n",
       "<table border=\"1\" class=\"dataframe\">\n",
       "  <thead>\n",
       "    <tr style=\"text-align: right;\">\n",
       "      <th></th>\n",
       "      <th>y_test</th>\n",
       "      <th>w_test</th>\n",
       "      <th>two_model</th>\n",
       "      <th>interaction_term</th>\n",
       "    </tr>\n",
       "  </thead>\n",
       "  <tbody>\n",
       "    <tr>\n",
       "      <th>0</th>\n",
       "      <td>0.069684</td>\n",
       "      <td>1</td>\n",
       "      <td>0.0</td>\n",
       "      <td>-0.000788</td>\n",
       "    </tr>\n",
       "    <tr>\n",
       "      <th>1</th>\n",
       "      <td>0.129710</td>\n",
       "      <td>1</td>\n",
       "      <td>0.0</td>\n",
       "      <td>-0.009864</td>\n",
       "    </tr>\n",
       "    <tr>\n",
       "      <th>2</th>\n",
       "      <td>0.428351</td>\n",
       "      <td>1</td>\n",
       "      <td>0.0</td>\n",
       "      <td>0.000072</td>\n",
       "    </tr>\n",
       "    <tr>\n",
       "      <th>3</th>\n",
       "      <td>1.704667</td>\n",
       "      <td>1</td>\n",
       "      <td>0.0</td>\n",
       "      <td>0.010959</td>\n",
       "    </tr>\n",
       "    <tr>\n",
       "      <th>4</th>\n",
       "      <td>0.000000</td>\n",
       "      <td>1</td>\n",
       "      <td>0.0</td>\n",
       "      <td>0.000000</td>\n",
       "    </tr>\n",
       "  </tbody>\n",
       "</table>\n",
       "</div>"
      ],
      "text/plain": [
       "     y_test  w_test  two_model  interaction_term\n",
       "0  0.069684       1        0.0         -0.000788\n",
       "1  0.129710       1        0.0         -0.009864\n",
       "2  0.428351       1        0.0          0.000072\n",
       "3  1.704667       1        0.0          0.010959\n",
       "4  0.000000       1        0.0          0.000000"
      ]
     },
     "metadata": {},
     "output_type": "display_data"
    },
    {
     "data": {
      "text/plain": [
       "(1652, 4)"
      ]
     },
     "execution_count": 62,
     "metadata": {},
     "output_type": "execute_result"
    }
   ],
   "source": [
    "df_visual_eval = pd.DataFrame(visual_eval_dict, columns = visual_eval_dict.keys())\n",
    "\n",
    "display(df_visual_eval.head())\n",
    "df_visual_eval.shape"
   ]
  },
  {
   "cell_type": "code",
   "execution_count": 63,
   "metadata": {
    "ExecuteTime": {
     "end_time": "2020-02-02T20:07:41.328167Z",
     "start_time": "2020-02-02T20:07:41.325425Z"
    }
   },
   "outputs": [],
   "source": [
    "models = [col for col in visual_eval_dict.keys() if col not in ['y_test', 'w_test']]"
   ]
  },
  {
   "cell_type": "code",
   "execution_count": 65,
   "metadata": {
    "ExecuteTime": {
     "end_time": "2020-02-02T20:08:06.334126Z",
     "start_time": "2020-02-02T20:08:05.981604Z"
    }
   },
   "outputs": [
    {
     "data": {
      "image/png": "[encoded data removed]",
      "text/plain": [
       "<Figure size 720x360 with 1 Axes>"
      ]
     },
     "metadata": {},
     "output_type": "display_data"
    }
   ],
   "source": [
    "# fig, (ax1, ax2) = plt.subplots(ncols=2, sharey=False, figsize=(20,5))\n",
    "\n",
    "plot_cum_effect(df=df_visual_eval, n=100, models=models, percent_of_pop=False, \n",
    "                outcome_col='y_test', treatment_col='w_test', random_seed=42, \n",
    "                figsize=(10,5), fontsize=20, axis=None, legend_metrics=False)\n",
    "\n",
    "# plot_batch_responses(df=df_visual_eval, n=10, models=models, \n",
    "#                      outcome_col='y_test', treatment_col='w_test', normalize=False,\n",
    "#                      figsize=None, fontsize=15, axis=ax2)"
   ]
  },
  {
   "cell_type": "code",
   "execution_count": 66,
   "metadata": {
    "ExecuteTime": {
     "end_time": "2020-02-02T20:08:10.618022Z",
     "start_time": "2020-02-02T20:08:09.886676Z"
    }
   },
   "outputs": [
    {
     "data": {
      "image/png": "[encoded data removed]",
      "text/plain": [
       "<Figure size 1440x360 with 2 Axes>"
      ]
     },
     "metadata": {},
     "output_type": "display_data"
    }
   ],
   "source": [
    "fig, (ax1, ax2) = plt.subplots(nrows=1, ncols=2, sharey=False, figsize=(20,5))\n",
    "\n",
    "plot_cum_gain(df=df_visual_eval, n=100, models=models, percent_of_pop=True,\n",
    "              outcome_col='y_test', treatment_col='w_test', normalize=True, random_seed=42, \n",
    "              figsize=None, fontsize=20, axis=ax1, legend_metrics=True)\n",
    "\n",
    "plot_qini(df=df_visual_eval, n=100, models=models, percent_of_pop=True, \n",
    "          outcome_col='y_test', treatment_col='w_test', normalize=True, random_seed=42, \n",
    "          figsize=None, fontsize=20, axis=ax2, legend_metrics=True)"
   ]
  },
  {
   "cell_type": "markdown",
   "metadata": {},
   "source": [
    "## Iterated Evaluation and Variance"
   ]
  },
  {
   "cell_type": "code",
   "execution_count": 68,
   "metadata": {
    "ExecuteTime": {
     "end_time": "2020-02-02T20:09:51.875385Z",
     "start_time": "2020-02-02T20:09:51.861695Z"
    }
   },
   "outputs": [
    {
     "name": "stderr",
     "output_type": "stream",
     "text": [
      "/Users/andrewmcallister/opt/anaconda3/lib/python3.7/site-packages/causeinfer/evaluation.py:1219: RuntimeWarning: invalid value encountered in double_scalars\n",
      "  sds_to_0 = int(var/sd)\n"
     ]
    },
    {
     "ename": "ValueError",
     "evalue": "cannot convert float NaN to integer",
     "output_type": "error",
     "traceback": [
      "\u001b[0;31m---------------------------------------------------------------------------\u001b[0m",
      "\u001b[0;31mValueError\u001b[0m                                Traceback (most recent call last)",
      "\u001b[0;32m<ipython-input-68-0c603c8b424d>\u001b[0m in \u001b[0;36m<module>\u001b[0;34m\u001b[0m\n\u001b[0;32m----> 1\u001b[0;31m \u001b[0mdf_model_eval\u001b[0m \u001b[0;34m=\u001b[0m \u001b[0meval_table\u001b[0m\u001b[0;34m(\u001b[0m\u001b[0mmodel_eval_dict\u001b[0m\u001b[0;34m,\u001b[0m \u001b[0mvariances\u001b[0m\u001b[0;34m=\u001b[0m\u001b[0;32mTrue\u001b[0m\u001b[0;34m,\u001b[0m \u001b[0mannotate_vars\u001b[0m\u001b[0;34m=\u001b[0m\u001b[0;32mTrue\u001b[0m\u001b[0;34m)\u001b[0m\u001b[0;34m\u001b[0m\u001b[0;34m\u001b[0m\u001b[0m\n\u001b[0m\u001b[1;32m      2\u001b[0m \u001b[0;34m\u001b[0m\u001b[0m\n\u001b[1;32m      3\u001b[0m \u001b[0mdf_model_eval\u001b[0m\u001b[0;34m\u001b[0m\u001b[0;34m\u001b[0m\u001b[0m\n",
      "\u001b[0;32m~/opt/anaconda3/lib/python3.7/site-packages/causeinfer/evaluation.py\u001b[0m in \u001b[0;36meval_table\u001b[0;34m(eval_dict, variances, annotate_vars)\u001b[0m\n\u001b[1;32m   1247\u001b[0m                     eval_table.loc[d,m] = '{} \\u00B1 {}'.format(round(eval_dict[d][m]['avg_eval'],4), \n\u001b[1;32m   1248\u001b[0m                                                                 _annotate_variances(eval_dict[d][m]['eval_variance'], \n\u001b[0;32m-> 1249\u001b[0;31m                                                                                     eval_dict[d][m]['eval_sd']))\n\u001b[0m\u001b[1;32m   1250\u001b[0m \u001b[0;34m\u001b[0m\u001b[0m\n\u001b[1;32m   1251\u001b[0m     \u001b[0;32mreturn\u001b[0m \u001b[0meval_table\u001b[0m\u001b[0;34m\u001b[0m\u001b[0;34m\u001b[0m\u001b[0m\n",
      "\u001b[0;32m~/opt/anaconda3/lib/python3.7/site-packages/causeinfer/evaluation.py\u001b[0m in \u001b[0;36m_annotate_variances\u001b[0;34m(var, sd)\u001b[0m\n\u001b[1;32m   1217\u001b[0m     \u001b[0;32mdef\u001b[0m \u001b[0m_annotate_variances\u001b[0m\u001b[0;34m(\u001b[0m\u001b[0mvar\u001b[0m\u001b[0;34m,\u001b[0m \u001b[0msd\u001b[0m\u001b[0;34m)\u001b[0m\u001b[0;34m:\u001b[0m\u001b[0;34m\u001b[0m\u001b[0;34m\u001b[0m\u001b[0m\n\u001b[1;32m   1218\u001b[0m         \u001b[0;34m\"\"\"Returns stars equal to the number of standard deviations away from 0 a variance is\"\"\"\u001b[0m\u001b[0;34m\u001b[0m\u001b[0;34m\u001b[0m\u001b[0m\n\u001b[0;32m-> 1219\u001b[0;31m         \u001b[0msds_to_0\u001b[0m \u001b[0;34m=\u001b[0m \u001b[0mint\u001b[0m\u001b[0;34m(\u001b[0m\u001b[0mvar\u001b[0m\u001b[0;34m/\u001b[0m\u001b[0msd\u001b[0m\u001b[0;34m)\u001b[0m\u001b[0;34m\u001b[0m\u001b[0;34m\u001b[0m\u001b[0m\n\u001b[0m\u001b[1;32m   1220\u001b[0m \u001b[0;34m\u001b[0m\u001b[0m\n\u001b[1;32m   1221\u001b[0m         \u001b[0;32mreturn\u001b[0m \u001b[0;34m'{}{}'\u001b[0m\u001b[0;34m.\u001b[0m\u001b[0mformat\u001b[0m\u001b[0;34m(\u001b[0m\u001b[0mstr\u001b[0m\u001b[0;34m(\u001b[0m\u001b[0mround\u001b[0m\u001b[0;34m(\u001b[0m\u001b[0mvar\u001b[0m\u001b[0;34m,\u001b[0m\u001b[0;36m4\u001b[0m\u001b[0;34m)\u001b[0m\u001b[0;34m)\u001b[0m\u001b[0;34m,\u001b[0m \u001b[0;34m'*'\u001b[0m\u001b[0;34m*\u001b[0m\u001b[0msds_to_0\u001b[0m\u001b[0;34m)\u001b[0m\u001b[0;34m\u001b[0m\u001b[0;34m\u001b[0m\u001b[0m\n",
      "\u001b[0;31mValueError\u001b[0m: cannot convert float NaN to integer"
     ]
    }
   ],
   "source": [
    "# Qini\n",
    "df_model_eval = eval_table(model_eval_dict, variances=True, annotate_vars=True)\n",
    "\n",
    "df_model_eval"
   ]
  },
  {
   "cell_type": "markdown",
   "metadata": {},
   "source": [
    "# Summary"
   ]
  },
  {
   "cell_type": "code",
   "execution_count": null,
   "metadata": {},
   "outputs": [],
   "source": []
  }
 ],
 "metadata": {
  "kernelspec": {
   "display_name": "Python 3",
   "language": "python",
   "name": "python3"
  },
  "language_info": {
   "codemirror_mode": {
    "name": "ipython",
    "version": 3
   },
   "file_extension": ".py",
   "mimetype": "text/x-python",
   "name": "python",
   "nbconvert_exporter": "python",
   "pygments_lexer": "ipython3",
   "version": "3.7.6"
  },
  "toc": {
   "base_numbering": 1,
   "nav_menu": {},
   "number_sections": true,
   "sideBar": true,
   "skip_h1_title": false,
   "title_cell": "Table of Contents",
   "title_sidebar": "Contents",
   "toc_cell": true,
   "toc_position": {},
   "toc_section_display": true,
   "toc_window_display": false
  }
 },
 "nbformat": 4,
 "nbformat_minor": 2
}
