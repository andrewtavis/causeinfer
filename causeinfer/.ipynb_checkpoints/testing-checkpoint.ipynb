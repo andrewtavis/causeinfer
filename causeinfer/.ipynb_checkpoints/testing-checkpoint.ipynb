{
 "cells": [
  {
   "cell_type": "code",
   "execution_count": 1,
   "metadata": {
    "ExecuteTime": {
     "end_time": "2019-11-19T19:34:21.213763Z",
     "start_time": "2019-11-19T19:34:20.691870Z"
    }
   },
   "outputs": [
    {
     "data": {
      "text/html": [
       "<style>.container { width:99% !important; }</style>"
      ],
      "text/plain": [
       "<IPython.core.display.HTML object>"
      ]
     },
     "metadata": {},
     "output_type": "display_data"
    }
   ],
   "source": [
    "import os\n",
    "import requests\n",
    "import importlib\n",
    "import numpy as np\n",
    "import pandas as pd\n",
    "import urllib\n",
    "import zipfile\n",
    "\n",
    "pd.set_option(\"display.max_rows\", 16)\n",
    "pd.set_option('display.max_columns', None)\n",
    "from IPython.core.display import display, HTML\n",
    "display(HTML(\"<style>.container { width:99% !important; }</style>\"))\n",
    "# get_ipython().run_line_magic('matplotlib', 'notebook')"
   ]
  },
  {
   "cell_type": "code",
   "execution_count": 2,
   "metadata": {
    "ExecuteTime": {
     "end_time": "2019-11-19T19:34:22.104295Z",
     "start_time": "2019-11-19T19:34:22.100840Z"
    }
   },
   "outputs": [],
   "source": [
    "import sys\n",
    "sys.path.append('/Users/andrewmcallister/Documents/Learning/Work/causeinfer/causeinfer/datasets')"
   ]
  },
  {
   "cell_type": "code",
   "execution_count": 3,
   "metadata": {
    "ExecuteTime": {
     "end_time": "2019-11-19T19:34:23.228794Z",
     "start_time": "2019-11-19T19:34:23.221478Z"
    }
   },
   "outputs": [],
   "source": [
    "from hillstrom import download_hillstrom, load_hillstrom\n",
    "from mayo_pbc import download_mayo_pbc, load_mayo_pbc\n",
    "from ifmr_microfinance import downlaod_ifmr_microfinance, load_ifmr_microfinance"
   ]
  },
  {
   "cell_type": "code",
   "execution_count": 11,
   "metadata": {
    "ExecuteTime": {
     "end_time": "2019-11-19T19:36:57.653191Z",
     "start_time": "2019-11-19T19:36:57.651351Z"
    }
   },
   "outputs": [],
   "source": [
    "# download_hillstrom()\n",
    "# hillstrom = load_hillstrom()\n",
    "# display(hillstrom['dataset_full'])"
   ]
  },
  {
   "cell_type": "code",
   "execution_count": 12,
   "metadata": {
    "ExecuteTime": {
     "end_time": "2019-11-19T19:37:15.816188Z",
     "start_time": "2019-11-19T19:37:15.813732Z"
    }
   },
   "outputs": [],
   "source": [
    "# download_mayo_pbc()\n",
    "# mayo = load_mayo_pbc()\n",
    "# display(mayo['dataset_full'])"
   ]
  },
  {
   "cell_type": "code",
   "execution_count": 13,
   "metadata": {
    "ExecuteTime": {
     "end_time": "2019-11-19T19:39:47.494412Z",
     "start_time": "2019-11-19T19:39:47.492493Z"
    }
   },
   "outputs": [],
   "source": [
    "# downlaod_ifmr_microfinance()\n",
    "# ifmr = load_ifmr_microfinance()\n",
    "# display(ifmr['dataset_full'])"
   ]
  },
  {
   "cell_type": "code",
   "execution_count": null,
   "metadata": {},
   "outputs": [],
   "source": []
  }
 ],
 "metadata": {
  "kernelspec": {
   "display_name": "Python 3",
   "language": "python",
   "name": "python3"
  },
  "language_info": {
   "codemirror_mode": {
    "name": "ipython",
    "version": 3
   },
   "file_extension": ".py",
   "mimetype": "text/x-python",
   "name": "python",
   "nbconvert_exporter": "python",
   "pygments_lexer": "ipython3",
   "version": "3.7.5"
  },
  "toc": {
   "base_numbering": 1,
   "nav_menu": {},
   "number_sections": true,
   "sideBar": true,
   "skip_h1_title": false,
   "title_cell": "Table of Contents",
   "title_sidebar": "Contents",
   "toc_cell": false,
   "toc_position": {},
   "toc_section_display": true,
   "toc_window_display": false
  }
 },
 "nbformat": 4,
 "nbformat_minor": 2
}
